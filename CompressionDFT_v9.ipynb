{
 "cells": [
  {
   "cell_type": "markdown",
   "metadata": {},
   "source": [
    "# Part 1: Time Series Data Summarization"
   ]
  },
  {
   "cell_type": "code",
   "execution_count": 1,
   "metadata": {},
   "outputs": [],
   "source": [
    "from scipy.fftpack import fft, ifft\n",
    "import numpy as np\n",
    "import matplotlib.pyplot as plt"
   ]
  },
  {
   "cell_type": "markdown",
   "metadata": {},
   "source": [
    "### Interface to facilitate calculation of Euclidean distance, RMSE and statistics"
   ]
  },
  {
   "cell_type": "code",
   "execution_count": 2,
   "metadata": {},
   "outputs": [],
   "source": [
    "# An interface to calculate euclidean distance between 2 signals\n",
    "def euc_dist(x,y):\n",
    "    return float(np.linalg.norm(x - y))\n",
    "\n",
    "# Calculate RMSE\n",
    "from sklearn.metrics import mean_squared_error\n",
    "from math import sqrt\n",
    "def rmse(x,y):\n",
    "    return sqrt(mean_squared_error(x, y))\n",
    "\n",
    "def summarize_data(x):\n",
    "    print(\"Average:\", np.mean(x).round(4), \" Mean:\", np.median(x).round(4), \" Max:\", np.max(x).round(4), \" Min:\", np.min(x).round(4), \"\\n\")"
   ]
  },
  {
   "cell_type": "markdown",
   "metadata": {},
   "source": [
    "### Load 50k time_series (synthetic and seismic)"
   ]
  },
  {
   "cell_type": "code",
   "execution_count": 3,
   "metadata": {},
   "outputs": [],
   "source": [
    "import struct\n",
    "filename_synthetic = 'synthetic_size50k_len256_znorm.bin'\n",
    "with open(filename_synthetic, 'rb') as in_file:\n",
    "    time_series_synthetic = np.array(struct.unpack('f' * 50000 * 256, in_file.read())).reshape(-1,256)\n",
    "\n",
    "filename_seismic = 'seismic_size50k_len256_znorm.bin'\n",
    "with open(filename_seismic, 'rb') as in_file:\n",
    "    time_series_seismic = np.array(struct.unpack('f' * 50000 * 256, in_file.read())).reshape(-1,256)"
   ]
  },
  {
   "cell_type": "markdown",
   "metadata": {},
   "source": [
    "# Compression with float32"
   ]
  },
  {
   "cell_type": "code",
   "execution_count": 4,
   "metadata": {},
   "outputs": [],
   "source": [
    "def compress_to_size(x, size):\n",
    "    size = int(size/4)\n",
    "    com_x = fft(x, n = size)\n",
    "    return np.sqrt(np.square(com_x.real) + np.square(com_x.imag))\n",
    "def decompress1024(x, size):\n",
    "    rec_x = ifft(x, n = 256)\n",
    "    return np.sqrt(np.square(rec_x.real) + np.square(rec_x.imag))"
   ]
  },
  {
   "cell_type": "markdown",
   "metadata": {},
   "source": [
    "## 50k synthetic time_series (float32)"
   ]
  },
  {
   "cell_type": "code",
   "execution_count": 5,
   "metadata": {},
   "outputs": [],
   "source": [
    "# Following code is to compress and reconstruct synthetic data\n",
    "\n",
    "x = time_series_synthetic\n",
    "\n",
    "com_128 = compress_to_size(x, 128)\n",
    "com_64 = compress_to_size(x, 64)\n",
    "com_32 = compress_to_size(x, 32)\n",
    "\n",
    "reconstructed_128 = decompress1024(com_128, 128)\n",
    "reconstructed_64 = decompress1024(com_64, 64)\n",
    "reconstructed_32 = decompress1024(com_32, 32)\n",
    "\n",
    "# Initialize variables to record reconstruction error for 50k time_series\n",
    "errorList_128_synthetic_float32 = []\n",
    "errorList_64_synthetic_float32 = []\n",
    "errorList_32_synthetic_float32 = []\n",
    "\n",
    "data_size = 50000\n",
    "for i in range(data_size):\n",
    "    x = time_series_synthetic[i,]\n",
    "    errorList_128_synthetic_float32.append(rmse(x, reconstructed_128[i,]))\n",
    "    errorList_64_synthetic_float32.append(rmse(x, reconstructed_64[i,]))\n",
    "    errorList_32_synthetic_float32.append(rmse(x, reconstructed_32[i,]))"
   ]
  },
  {
   "cell_type": "markdown",
   "metadata": {},
   "source": [
    "## 50k seismic time_series (float32)"
   ]
  },
  {
   "cell_type": "code",
   "execution_count": 6,
   "metadata": {},
   "outputs": [],
   "source": [
    "# Following code is to compress and reconstruct seismic data\n",
    "\n",
    "x = time_series_seismic\n",
    "\n",
    "com_128 = compress_to_size(x, 128)\n",
    "com_64 = compress_to_size(x, 64)\n",
    "com_32 = compress_to_size(x, 32)\n",
    "\n",
    "reconstructed_128 = decompress1024(com_128, 128)\n",
    "reconstructed_64 = decompress1024(com_64, 64)\n",
    "reconstructed_32 = decompress1024(com_32, 32)\n",
    "\n",
    "# Initialize variables to record reconstruction error for 50k time_series\n",
    "errorList_128_seismic_float32 = []\n",
    "errorList_64_seismic_float32 = []\n",
    "errorList_32_seismic_float32 = []\n",
    "\n",
    "data_size = 50000\n",
    "for i in range(data_size):\n",
    "    x = time_series_seismic[i,]\n",
    "    errorList_128_seismic_float32.append(rmse(x, reconstructed_128[i,]))\n",
    "    errorList_64_seismic_float32.append(rmse(x, reconstructed_64[i,]))\n",
    "    errorList_32_seismic_float32.append(rmse(x, reconstructed_32[i,]))"
   ]
  },
  {
   "cell_type": "markdown",
   "metadata": {},
   "source": [
    "# Compression with int8"
   ]
  },
  {
   "cell_type": "code",
   "execution_count": 7,
   "metadata": {},
   "outputs": [],
   "source": [
    "def compress_to_size(x, size):\n",
    "    com_x = fft(x, n = size)\n",
    "    return np.sqrt(np.square(com_x.real) + np.square(com_x.imag))\n",
    "def decompress256(x, size):\n",
    "    rec_x = ifft(x, n = 256)\n",
    "    return np.sqrt(np.square(rec_x.real) + np.square(rec_x.imag))"
   ]
  },
  {
   "cell_type": "markdown",
   "metadata": {},
   "source": [
    "## 50k synthetic time_series (int8)"
   ]
  },
  {
   "cell_type": "code",
   "execution_count": 8,
   "metadata": {},
   "outputs": [],
   "source": [
    "# Following code is to compress and reconstruct synthetic data\n",
    "\n",
    "x = time_series_synthetic\n",
    "\n",
    "com_128 = compress_to_size(x, 128)\n",
    "com_64 = compress_to_size(x, 64)\n",
    "com_32 = compress_to_size(x, 32)\n",
    "\n",
    "scale_n_128 = 127 / max(abs(np.amax(com_128)), abs(np.amin(com_128)))\n",
    "com_128 = np.multiply(com_128, scale_n_128).round().astype(np.int8)\n",
    "com_128 = np.multiply(com_128, 1/scale_n_128).astype(np.float32)\n",
    "\n",
    "scale_n_64 = 127 / max(abs(np.amax(com_64)), abs(np.amin(com_64)))\n",
    "com_64 = np.multiply(com_64, scale_n_64).round().astype(np.int8)\n",
    "com_64 = np.multiply(com_64, 1/scale_n_64).astype(np.float32)\n",
    "\n",
    "scale_n_32 = 127 / max(abs(np.amax(com_32)), abs(np.amin(com_32)))\n",
    "com_32 = np.multiply(com_32, scale_n_32).round().astype(np.int8)\n",
    "com_32 = np.multiply(com_32, 1/scale_n_32).astype(np.float32)\n",
    "\n",
    "reconstructed_128 = decompress1024(com_128, 128)\n",
    "reconstructed_64 = decompress1024(com_64, 64)\n",
    "reconstructed_32 = decompress1024(com_32, 32)\n",
    "\n",
    "# Initialize variables to record reconstruction error for 50k time_series\n",
    "errorList_128_synthetic_int8 = []\n",
    "errorList_64_synthetic_int8 = []\n",
    "errorList_32_synthetic_int8 = []\n",
    "\n",
    "data_size = 50000\n",
    "for i in range(data_size):\n",
    "    x = time_series_synthetic[i,]\n",
    "    errorList_128_synthetic_int8.append(rmse(x, reconstructed_128[i,]))\n",
    "    errorList_64_synthetic_int8.append(rmse(x, reconstructed_64[i,]))\n",
    "    errorList_32_synthetic_int8.append(rmse(x, reconstructed_32[i,]))"
   ]
  },
  {
   "cell_type": "markdown",
   "metadata": {},
   "source": [
    "## 50k seismic time_series (int8)"
   ]
  },
  {
   "cell_type": "code",
   "execution_count": 9,
   "metadata": {},
   "outputs": [],
   "source": [
    "# Following code is to compress and reconstruct seismic data\n",
    "\n",
    "x = time_series_seismic\n",
    "\n",
    "com_128 = compress_to_size(x, 128)\n",
    "com_64 = compress_to_size(x, 64)\n",
    "com_32 = compress_to_size(x, 32)\n",
    "\n",
    "scale_n_128 = 127 / max(abs(np.amax(com_128)), abs(np.amin(com_128)))\n",
    "com_128 = np.multiply(com_128, scale_n_128).round().astype(np.int8)\n",
    "com_128 = np.multiply(com_128, 1/scale_n_128).astype(np.float32)\n",
    "\n",
    "scale_n_64 = 127 / max(abs(np.amax(com_64)), abs(np.amin(com_64)))\n",
    "com_64 = np.multiply(com_64, scale_n_64).round().astype(np.int8)\n",
    "com_64 = np.multiply(com_64, 1/scale_n_64).astype(np.float32)\n",
    "\n",
    "scale_n_32 = 127 / max(abs(np.amax(com_32)), abs(np.amin(com_32)))\n",
    "com_32 = np.multiply(com_32, scale_n_32).round().astype(np.int8)\n",
    "com_32 = np.multiply(com_32, 1/scale_n_32).astype(np.float32)\n",
    "\n",
    "reconstructed_128 = decompress1024(com_128, 128)\n",
    "reconstructed_64 = decompress1024(com_64, 64)\n",
    "reconstructed_32 = decompress1024(com_32, 32)\n",
    "\n",
    "# Initialize variables to record reconstruction error for 50k time_series\n",
    "errorList_128_seismic_int8 = []\n",
    "errorList_64_seismic_int8 = []\n",
    "errorList_32_seismic_int8 = []\n",
    "\n",
    "data_size = 50000\n",
    "for i in range(data_size):\n",
    "    x = time_series_seismic[i,]\n",
    "    errorList_128_seismic_int8.append(rmse(x, reconstructed_128[i,]))\n",
    "    errorList_64_seismic_int8.append(rmse(x, reconstructed_64[i,]))\n",
    "    errorList_32_seismic_int8.append(rmse(x, reconstructed_32[i,]))"
   ]
  },
  {
   "cell_type": "code",
   "execution_count": null,
   "metadata": {},
   "outputs": [],
   "source": []
  },
  {
   "cell_type": "markdown",
   "metadata": {},
   "source": [
    "## Error evaluation"
   ]
  },
  {
   "cell_type": "code",
   "execution_count": 10,
   "metadata": {},
   "outputs": [
    {
     "name": "stdout",
     "output_type": "stream",
     "text": [
      "RMSE of 50k synthetic time series: 128 -> 1024 (float32)\n",
      "Average: 1.0116  Mean: 1.0107  Max: 1.1115  Min: 0.9526 \n",
      "\n",
      "RMSE of 50k synthetic time series: 64 -> 1024 (float32)\n",
      "Average: 1.0033  Mean: 1.0029  Max: 1.0418  Min: 0.9785 \n",
      "\n",
      "RMSE of 50k synthetic time series: 32 -> 1024 (float32)\n",
      "Average: 1.0009  Mean: 1.0008  Max: 1.0182  Min: 0.9906 \n",
      "\n",
      "RMSE of 50k synthetic time series: 128 -> 1024 (int8)\n",
      "Average: 1.1148  Mean: 1.1081  Max: 1.4107  Min: 0.8422 \n",
      "\n",
      "RMSE of 50k synthetic time series: 64 -> 1024 (int8)\n",
      "Average: 1.0378  Mean: 1.0374  Max: 1.2209  Min: 0.8995 \n",
      "\n",
      "RMSE of 50k synthetic time series: 32 -> 1024 (int8)\n",
      "Average: 1.0116  Mean: 1.0107  Max: 1.1114  Min: 0.9528 \n",
      "\n",
      "RMSE of 50k seismic time series: 128 -> 1024 (float32)\n",
      "Average: 1.0078  Mean: 1.0074  Max: 1.1127  Min: 0.9611 \n",
      "\n",
      "RMSE of 50k seismic time series: 64 -> 1024 (float32)\n",
      "Average: 1.002  Mean: 1.0018  Max: 1.0489  Min: 0.9831 \n",
      "\n",
      "RMSE of 50k seismic time series: 32 -> 1024 (float32)\n",
      "Average: 1.0005  Mean: 1.0004  Max: 1.012  Min: 0.9886 \n",
      "\n",
      "RMSE of 50k seismic time series: 128 -> 1024 (int8)\n",
      "Average: 1.1181  Mean: 1.1179  Max: 1.3969  Min: 0.9337 \n",
      "\n",
      "RMSE of 50k seismic time series: 64 -> 1024 (int8)\n",
      "Average: 1.0308  Mean: 1.0303  Max: 1.2532  Min: 0.9271 \n",
      "\n",
      "RMSE of 50k seismic time series: 32 -> 1024 (int8)\n",
      "Average: 1.0078  Mean: 1.0074  Max: 1.1127  Min: 0.9612 \n",
      "\n"
     ]
    }
   ],
   "source": [
    "# Reconstruction error for 50k synthetic time_series\n",
    "print(\"RMSE of 50k synthetic time series: 128 -> 1024 (float32)\")\n",
    "summarize_data(errorList_128_synthetic_float32)\n",
    "print(\"RMSE of 50k synthetic time series: 64 -> 1024 (float32)\")\n",
    "summarize_data(errorList_64_synthetic_float32)\n",
    "print(\"RMSE of 50k synthetic time series: 32 -> 1024 (float32)\")\n",
    "summarize_data(errorList_32_synthetic_float32)\n",
    "\n",
    "print(\"RMSE of 50k synthetic time series: 128 -> 1024 (int8)\")\n",
    "summarize_data(errorList_128_synthetic_int8)\n",
    "print(\"RMSE of 50k synthetic time series: 64 -> 1024 (int8)\")\n",
    "summarize_data(errorList_64_synthetic_int8)\n",
    "print(\"RMSE of 50k synthetic time series: 32 -> 1024 (int8)\")\n",
    "summarize_data(errorList_32_synthetic_int8)\n",
    "\n",
    "\n",
    "# Reconstruction error for 50k seismic time_series\n",
    "print(\"RMSE of 50k seismic time series: 128 -> 1024 (float32)\")\n",
    "summarize_data(errorList_128_seismic_float32)\n",
    "print(\"RMSE of 50k seismic time series: 64 -> 1024 (float32)\")\n",
    "summarize_data(errorList_64_seismic_float32)\n",
    "print(\"RMSE of 50k seismic time series: 32 -> 1024 (float32)\")\n",
    "summarize_data(errorList_32_seismic_float32)\n",
    "\n",
    "print(\"RMSE of 50k seismic time series: 128 -> 1024 (int8)\")\n",
    "summarize_data(errorList_128_seismic_int8)\n",
    "print(\"RMSE of 50k seismic time series: 64 -> 1024 (int8)\")\n",
    "summarize_data(errorList_64_seismic_int8)\n",
    "print(\"RMSE of 50k seismic time series: 32 -> 1024 (int8)\")\n",
    "summarize_data(errorList_32_seismic_int8)"
   ]
  },
  {
   "cell_type": "markdown",
   "metadata": {},
   "source": [
    "## Visualize reconstruction errors of 50k time series with Boxplot"
   ]
  },
  {
   "cell_type": "code",
   "execution_count": 11,
   "metadata": {},
   "outputs": [],
   "source": [
    "plt.rcParams['figure.figsize'] = [12, 6]"
   ]
  },
  {
   "cell_type": "code",
   "execution_count": 12,
   "metadata": {},
   "outputs": [
    {
     "data": {
      "text/plain": [
       "<function matplotlib.pyplot.show(*args, **kw)>"
      ]
     },
     "execution_count": 12,
     "metadata": {},
     "output_type": "execute_result"
    },
    {
     "data": {
      "image/png": "[encoded data removed]",
      "text/plain": [
       "<Figure size 864x432 with 2 Axes>"
      ]
     },
     "metadata": {
      "needs_background": "light"
     },
     "output_type": "display_data"
    }
   ],
   "source": [
    "plt.subplot(1,2,1)\n",
    "plt.boxplot([errorList_128_seismic_float32, errorList_64_seismic_float32, errorList_32_seismic_float32, \n",
    "             errorList_128_seismic_int8, errorList_64_seismic_int8, errorList_32_seismic_int8])\n",
    "plt.title('Reconstruction error - 50k seismic time series')\n",
    "plt.xticks([1, 2, 3, 4, 5, 6], ['128(float32)', '64(float32)', '32(float32)', '128(int8)', '64(int8)', '32(int8)'])\n",
    "\n",
    "plt.subplot(1,2,2)\n",
    "plt.boxplot([errorList_128_synthetic_float32, errorList_64_synthetic_float32, errorList_32_synthetic_float32, \n",
    "             errorList_128_synthetic_int8, errorList_64_synthetic_int8, errorList_32_synthetic_int8])\n",
    "plt.title('Reconstruction error - 50k synthetic time series')\n",
    "plt.xticks([1, 2, 3, 4, 5, 6], ['128(float32)', '64(float32)', '32(float32)', '128(int8)', '64(int8)', '32(int8)'])\n",
    "\n",
    "plt.tight_layout()\n",
    "plt.show"
   ]
  },
  {
   "cell_type": "code",
   "execution_count": 13,
   "metadata": {},
   "outputs": [],
   "source": [
    "import numpy as np\n",
    "errorFolder = \"./errors/\"\n",
    "errorTag = \"_DFT\"\n",
    "\n",
    "np.save(errorFolder + \"128_seismic\" + errorTag + \"_float32\", errorList_128_seismic_float32)\n",
    "np.save(errorFolder + \"64_seismic\" + errorTag + \"_float32\", errorList_64_seismic_float32)\n",
    "np.save(errorFolder + \"32_seismic\" + errorTag + \"_float32\", errorList_32_seismic_float32)\n",
    "np.save(errorFolder + \"128_seismic\" + errorTag + \"_int8\", errorList_128_seismic_int8)\n",
    "np.save(errorFolder + \"64_seismic\" + errorTag + \"_int8\", errorList_64_seismic_int8)\n",
    "np.save(errorFolder + \"32_seismic\" + errorTag + \"_int8\", errorList_32_seismic_int8)\n",
    "\n",
    "np.save(errorFolder + \"128_synthetic\" + errorTag + \"_float32\", errorList_128_synthetic_float32)\n",
    "np.save(errorFolder + \"64_synthetic\" + errorTag + \"_float32\", errorList_64_synthetic_float32)\n",
    "np.save(errorFolder + \"32_synthetic\" + errorTag + \"_float32\", errorList_32_synthetic_float32)\n",
    "np.save(errorFolder + \"128_synthetic\" + errorTag + \"_int8\", errorList_128_synthetic_int8)\n",
    "np.save(errorFolder + \"64_synthetic\" + errorTag + \"_int8\", errorList_64_synthetic_int8)\n",
    "np.save(errorFolder + \"32_synthetic\" + errorTag + \"_int8\", errorList_32_synthetic_int8)"
   ]
  },
  {
   "cell_type": "code",
   "execution_count": 14,
   "metadata": {},
   "outputs": [],
   "source": [
    "tmp = np.load(errorFolder + \"128_seismic\" + errorTag + \"_float32\" + \".npy\")"
   ]
  },
  {
   "cell_type": "code",
   "execution_count": 15,
   "metadata": {},
   "outputs": [
    {
     "data": {
      "text/plain": [
       "(50000,)"
      ]
     },
     "execution_count": 15,
     "metadata": {},
     "output_type": "execute_result"
    }
   ],
   "source": [
    "tmp.shape"
   ]
  },
  {
   "cell_type": "code",
   "execution_count": null,
   "metadata": {},
   "outputs": [],
   "source": []
  }
 ],
 "metadata": {
  "kernelspec": {
   "display_name": "Python 3",
   "language": "python",
   "name": "python3"
  },
  "language_info": {
   "codemirror_mode": {
    "name": "ipython",
    "version": 3
   },
   "file_extension": ".py",
   "mimetype": "text/x-python",
   "name": "python",
   "nbconvert_exporter": "python",
   "pygments_lexer": "ipython3",
   "version": "3.7.6"
  }
 },
 "nbformat": 4,
 "nbformat_minor": 4
}
