{
 "cells": [
  {
   "cell_type": "code",
   "execution_count": 2,
   "metadata": {},
   "outputs": [],
   "source": [
    "import numpy as np\n",
    "import math\n",
    "import matplotlib.pyplot as plt\n",
    "import pywt # python library for wavelet transformation"
   ]
  },
  {
   "cell_type": "code",
   "execution_count": 3,
   "metadata": {},
   "outputs": [],
   "source": [
    "# Compress 'x' i times and get a [x.size / 2**i] size data\n",
    "# e.g. using com_iterative(x, 3) on x which contains 256 float numbers,\n",
    "#      we'll have a compressed [256 / 2**3] = 32 float numbers\n",
    "def com_iterative(x, i):\n",
    "    for k in range(i):\n",
    "        compressed_x, _ = pywt.dwt(x, 'db1')\n",
    "        x = compressed_x\n",
    "    return x\n",
    "# reconstruction of data set 'y' to [y.original_size * 2**i]\n",
    "def rec_iterative(y, i):\n",
    "    tmp = y\n",
    "    for k in range(i):\n",
    "        reconstructed_y = pywt.idwt(tmp, None, 'db1')\n",
    "        tmp = reconstructed_y\n",
    "    return reconstructed_y\n",
    "\n",
    "# Interface functions to encode/decode easily\n",
    "def compress_to_size(x, size):\n",
    "    if size == 128 or size == 64 or size == 32:\n",
    "        #size = size/4\n",
    "        return com_iterative(x, int(math.log(x.shape[0]/size, 2)))\n",
    "    else:\n",
    "        print(\"compress_to_size(x,size): size is not valid.\")\n",
    "        import os\n",
    "        os.system('pause')\n",
    "\n",
    "def decompress1024(y, size):\n",
    "    return rec_iterative(y, int(math.log(256/y.shape[0], 2)))"
   ]
  },
  {
   "cell_type": "code",
   "execution_count": 11,
   "metadata": {},
   "outputs": [],
   "source": [
    "# An interface to calculate euclidean distance between 2 signals\n",
    "def euc_dist(x,y):\n",
    "    return float(np.linalg.norm(x - y))\n",
    "from sklearn.metrics import mean_squared_error\n",
    "from math import sqrt\n",
    "def rms(x,y):\n",
    "    return sqrt(mean_squared_error(x, y))"
   ]
  },
  {
   "cell_type": "code",
   "execution_count": 5,
   "metadata": {},
   "outputs": [],
   "source": [
    "import matplotlib.pyplot as plt\n",
    "plt.rcParams['figure.figsize'] = [25, 10]"
   ]
  },
  {
   "cell_type": "code",
   "execution_count": 6,
   "metadata": {},
   "outputs": [],
   "source": [
    "import numpy as np\n",
    "import struct\n",
    "filename_seismic_query = 'seismic-query_size100_len256_znorm.bin'\n",
    "with open(filename_seismic_query, 'rb') as in_file:\n",
    "    time_series_seismic_query = np.array(struct.unpack('f' * 100 * 256, in_file.read())).reshape(-1,256)"
   ]
  },
  {
   "cell_type": "code",
   "execution_count": 7,
   "metadata": {},
   "outputs": [],
   "source": [
    "i = 1\n",
    "t = range(256)\n",
    "x = time_series_seismic_query[i,]\n",
    "x1 = compress_to_size(x, 128)\n",
    "y1 = decompress1024(x1, 256)"
   ]
  },
  {
   "cell_type": "code",
   "execution_count": 8,
   "metadata": {},
   "outputs": [
    {
     "data": {
      "text/plain": [
       "11.4525839693859"
      ]
     },
     "execution_count": 8,
     "metadata": {},
     "output_type": "execute_result"
    }
   ],
   "source": [
    "# plt.plot(t,x,t,y1)\n",
    "euc_dist(x,y1)"
   ]
  },
  {
   "cell_type": "code",
   "execution_count": null,
   "metadata": {},
   "outputs": [],
   "source": []
  },
  {
   "cell_type": "markdown",
   "metadata": {},
   "source": [
    "## Speed test 1024 bytes (256 floats) -> 128 bytes (32 floats)"
   ]
  },
  {
   "cell_type": "code",
   "execution_count": 12,
   "metadata": {},
   "outputs": [],
   "source": [
    "def clean_data(x):\n",
    "    min_value = -5\n",
    "    max_value = 5\n",
    "    x[x < min_value] = min_value\n",
    "    x[x > max_value] = max_value\n",
    "    return x"
   ]
  },
  {
   "cell_type": "code",
   "execution_count": 27,
   "metadata": {},
   "outputs": [
    {
     "name": "stdout",
     "output_type": "stream",
     "text": [
      "0.10202687809031044\n"
     ]
    }
   ],
   "source": [
    "filename_synthetic = 'synthetic_size50k_len256_znorm.bin'\n",
    "with open(filename_synthetic, 'rb') as in_file:\n",
    "    time_series_synthetic_ori = np.array(struct.unpack('f' * 50000 * 256, in_file.read()))\n",
    "\n",
    "# time_series_synthetic = clean_data(time_series_synthetic_ori)\n",
    "error = 0\n",
    "import time\n",
    "start_time = time.time()\n",
    "\n",
    "# time_series_synthetic = (time_series_synthetic * 20).round()\n",
    "\n",
    "# compression\n",
    "x = time_series_synthetic\n",
    "for k in range(1):\n",
    "    compressed_x, _ = pywt.dwt(x, 'db1')\n",
    "    x = compressed_x\n",
    "x1 = x\n",
    "\n",
    "# decompression\n",
    "y = x1\n",
    "for k in range(1):\n",
    "    reconstructed_y = pywt.idwt(y, None, 'db1')\n",
    "    y = reconstructed_y\n",
    "y1 = y\n",
    "\n",
    "# y1 = y1 / 20\n",
    "\n",
    "# print(\"--- %s seconds ---\" % (time.time() - start_time))\n",
    "print(rms(time_series_synthetic_ori,y1))"
   ]
  },
  {
   "cell_type": "code",
   "execution_count": 30,
   "metadata": {},
   "outputs": [
    {
     "data": {
      "image/png": "[encoded data removed]",
      "text/plain": [
       "<Figure size 1800x720 with 1 Axes>"
      ]
     },
     "metadata": {
      "needs_background": "light"
     },
     "output_type": "display_data"
    }
   ],
   "source": [
    "import matplotlib.pyplot as plt\n",
    "p1 = plt.hist(time_series_synthetic, bins=40)"
   ]
  },
  {
   "cell_type": "code",
   "execution_count": 23,
   "metadata": {},
   "outputs": [
    {
     "name": "stdout",
     "output_type": "stream",
     "text": [
      "--- 5.1154465675354 seconds ---\n",
      "2.4065547824369355\n"
     ]
    }
   ],
   "source": [
    "filename_synthetic = 'synthetic_size50k_len256_znorm.bin'\n",
    "with open(filename_synthetic, 'rb') as in_file:\n",
    "    time_series_synthetic = np.array(struct.unpack('f' * 50000 * 256, in_file.read())).reshape(-1,256)\n",
    "\n",
    "time_series_synthetic = clean_data(time_series_synthetic)\n",
    "error = 0\n",
    "import time\n",
    "start_time = time.time()\n",
    "\n",
    "for i in range(50000):\n",
    "# t = range(256)\n",
    "    x = time_series_synthetic[i,]\n",
    "    x1 = compress_to_size(x, 64)\n",
    "    y1 = decompress1024(x1, 256)\n",
    "    error += euc_dist(time_series_synthetic_ori[i],y1)\n",
    "    \n",
    "print(\"--- %s seconds ---\" % (time.time() - start_time))\n",
    "print(error/50000)"
   ]
  },
  {
   "cell_type": "code",
   "execution_count": 24,
   "metadata": {},
   "outputs": [
    {
     "name": "stdout",
     "output_type": "stream",
     "text": [
      "--- 6.796142101287842 seconds ---\n",
      "3.4711128933642046\n"
     ]
    }
   ],
   "source": [
    "filename_synthetic = 'synthetic_size50k_len256_znorm.bin'\n",
    "with open(filename_synthetic, 'rb') as in_file:\n",
    "    time_series_synthetic = np.array(struct.unpack('f' * 50000 * 256, in_file.read())).reshape(-1,256)\n",
    "\n",
    "time_series_synthetic = clean_data(time_series_synthetic)\n",
    "error = 0\n",
    "import time\n",
    "start_time = time.time()\n",
    "\n",
    "for i in range(50000):\n",
    "# t = range(256)\n",
    "    x = time_series_synthetic[i,]\n",
    "    x1 = compress_to_size(x, 32)\n",
    "    y1 = decompress1024(x1, 256)\n",
    "    error += euc_dist(time_series_synthetic_ori[i],y1)\n",
    "    \n",
    "print(\"--- %s seconds ---\" % (time.time() - start_time))\n",
    "print(error/50000)"
   ]
  },
  {
   "cell_type": "code",
   "execution_count": null,
   "metadata": {},
   "outputs": [],
   "source": []
  },
  {
   "cell_type": "code",
   "execution_count": null,
   "metadata": {},
   "outputs": [],
   "source": []
  }
 ],
 "metadata": {
  "kernelspec": {
   "display_name": "Python 3",
   "language": "python",
   "name": "python3"
  },
  "language_info": {
   "codemirror_mode": {
    "name": "ipython",
    "version": 3
   },
   "file_extension": ".py",
   "mimetype": "text/x-python",
   "name": "python",
   "nbconvert_exporter": "python",
   "pygments_lexer": "ipython3",
   "version": "3.7.6"
  }
 },
 "nbformat": 4,
 "nbformat_minor": 4
}
