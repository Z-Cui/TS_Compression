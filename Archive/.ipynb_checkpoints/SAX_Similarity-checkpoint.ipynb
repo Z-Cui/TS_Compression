{
 "cells": [
  {
   "cell_type": "code",
   "execution_count": 1,
   "metadata": {},
   "outputs": [],
   "source": [
    "#!pip install saxpy"
   ]
  },
  {
   "cell_type": "code",
   "execution_count": 2,
   "metadata": {},
   "outputs": [],
   "source": [
    "import numpy as np\n",
    "from saxpy.znorm import znorm\n",
    "from saxpy.paa import paa\n",
    "from saxpy.sax import ts_to_string\n",
    "from saxpy.alphabet import cuts_for_asize"
   ]
  },
  {
   "cell_type": "code",
   "execution_count": 3,
   "metadata": {},
   "outputs": [],
   "source": [
    "import struct\n",
    "filename_synthetic = 'synthetic_size50k_len256_znorm.bin'\n",
    "with open(filename_synthetic, 'rb') as in_file:\n",
    "    time_series_synthetic = np.array(struct.unpack('f' * 50000 * 256, in_file.read())).reshape(-1,256)"
   ]
  },
  {
   "cell_type": "code",
   "execution_count": 4,
   "metadata": {},
   "outputs": [
    {
     "data": {
      "text/plain": [
       "'acb'"
      ]
     },
     "execution_count": 4,
     "metadata": {},
     "output_type": "execute_result"
    }
   ],
   "source": [
    "dat = np.array([-2, 0, 2, 0, -1])\n",
    "dat_znorm = znorm(dat)\n",
    "dat_paa_3 = paa(dat_znorm, 3)\n",
    "ts_to_string(dat_paa_3, cuts_for_asize(3))"
   ]
  },
  {
   "cell_type": "code",
   "execution_count": 15,
   "metadata": {},
   "outputs": [
    {
     "data": {
      "text/plain": [
       "'bcdccdccdddcbcdccccdcbaaaaaabbba'"
      ]
     },
     "execution_count": 15,
     "metadata": {},
     "output_type": "execute_result"
    }
   ],
   "source": [
    "x = time_series_synthetic[1,]\n",
    "x_znorm = znorm(x)\n",
    "size_rep = 32 # representation size\n",
    "x_paa = paa(x_znorm, size_rep)\n",
    "a = ts_to_string(x_paa, cuts_for_asize(4))\n",
    "a"
   ]
  },
  {
   "cell_type": "code",
   "execution_count": 6,
   "metadata": {},
   "outputs": [],
   "source": [
    "from saxpy.sax import sax_via_window\n",
    "x = time_series_synthetic[1,]\n",
    "sax_none = sax_via_window(x, win_size=4, paa_size=8, alphabet_size=5, nr_strategy=None)"
   ]
  },
  {
   "cell_type": "code",
   "execution_count": 7,
   "metadata": {},
   "outputs": [
    {
     "data": {
      "text/plain": [
       "defaultdict(list,\n",
       "            {'aacceedd': [0, 6, 9, 63, 102, 201, 214],\n",
       "             'ddddddaa': [1, 20, 50],\n",
       "             'eeeeaaaa': [2, 48, 51, 117, 119],\n",
       "             'eebbbbbb': [3, 46, 49, 66, 179],\n",
       "             'bbbbbbee': [4, 36, 75],\n",
       "             'aaaaddee': [5, 62],\n",
       "             'aaddbbee': [7, 10, 79],\n",
       "             'ccaaccee': [8, 17, 100, 109],\n",
       "             'bbaaddee': [11, 56, 183, 200],\n",
       "             'aaccccee': [12, 61, 155, 226],\n",
       "             'aaaaeeee': [13, 60],\n",
       "             'aaeeddbb': [14, 116, 229, 250],\n",
       "             'eeddbbaa': [15,\n",
       "              24,\n",
       "              33,\n",
       "              53,\n",
       "              83,\n",
       "              89,\n",
       "              181,\n",
       "              187,\n",
       "              194,\n",
       "              230,\n",
       "              241,\n",
       "              251],\n",
       "             'eeccaacc': [16, 191],\n",
       "             'aabbddee': [18, 29, 30, 101, 110, 134, 213, 219, 220, 221, 236],\n",
       "             'aaccdddd': [19],\n",
       "             'eeeebbaa': [21, 82, 107, 121, 190],\n",
       "             'eeccbbaa': [22, 120, 188, 198, 231],\n",
       "             'eeddccaa': [23, 54, 90, 122, 138, 164, 168, 232, 233],\n",
       "             'eeccaabb': [25, 84, 94, 108, 130, 161, 172, 178, 195],\n",
       "             'ddaaddee': [26],\n",
       "             'aaccddee': [27, 38, 135, 184],\n",
       "             'aabbccee': [28, 43, 86, 114, 212, 222],\n",
       "             'aabbeedd': [31, 39, 136, 223, 228],\n",
       "             'aaeeddaa': [32, 244],\n",
       "             'eeddaabb': [34, 91, 139, 169, 208, 245],\n",
       "             'eebbccaa': [35, 70, 92, 128, 159, 170],\n",
       "             'bbaaeeee': [37, 73, 153, 225],\n",
       "             'aaeeddcc': [40, 137],\n",
       "             'eebbaabb': [41],\n",
       "             'ccaabbee': [42, 59, 113, 147],\n",
       "             'bbcceeaa': [44, 141, 148],\n",
       "             'cceebbaa': [45],\n",
       "             'eeccddaa': [47, 124, 196],\n",
       "             'eebbbbaa': [52],\n",
       "             'ddccaaee': [55],\n",
       "             'aaddeecc': [57, 174, 237],\n",
       "             'bbeeaabb': [58],\n",
       "             'cceeccaa': [64, 193, 240],\n",
       "             'eeddaaaa': [65],\n",
       "             'bbccaaee': [67, 175],\n",
       "             'ccbbeeaa': [68],\n",
       "             'cceeaabb': [69, 142],\n",
       "             'ddeebbaa': [71, 93, 197, 247],\n",
       "             'ddbbaaee': [72, 182, 242, 248],\n",
       "             'aadddddd': [74, 154],\n",
       "             'aaaaeedd': [76, 145, 216],\n",
       "             'aabbbbee': [77, 144],\n",
       "             'bbaaeedd': [78, 243, 249],\n",
       "             'ddaadddd': [80, 105],\n",
       "             'aaeeeeaa': [81],\n",
       "             'ddaabbee': [85],\n",
       "             'aabbeecc': [87],\n",
       "             'bbeeccaa': [88, 163, 207],\n",
       "             'eebbddaa': [95, 126, 131, 246],\n",
       "             'bbeeaadd': [96],\n",
       "             'eeaaccee': [97],\n",
       "             'ccddeeaa': [98, 157],\n",
       "             'ddddaadd': [99, 104, 165],\n",
       "             'bbeeddaa': [103, 202],\n",
       "             'aaeeeebb': [106],\n",
       "             'aacceecc': [111],\n",
       "             'aaeeaadd': [112],\n",
       "             'aabbeeee': [115],\n",
       "             'eeccccaa': [118, 189],\n",
       "             'eeddaacc': [123, 234],\n",
       "             'ddeeaacc': [125],\n",
       "             'bbeeaacc': [127, 149],\n",
       "             'ddeeccaa': [129, 160, 171, 177, 186],\n",
       "             'bbeeaaee': [132],\n",
       "             'bbaabbee': [133],\n",
       "             'eeaabbdd': [140, 211],\n",
       "             'eeaabbcc': [143],\n",
       "             'aaeeccdd': [146],\n",
       "             'eeaaccbb': [150, 162],\n",
       "             'cceeddaa': [151, 167, 180],\n",
       "             'ccbbaaee': [152],\n",
       "             'bbbbccee': [156, 227],\n",
       "             'ddeeaabb': [158],\n",
       "             'ddaaeecc': [166],\n",
       "             'eeaaccdd': [173],\n",
       "             'ddcceeaa': [176],\n",
       "             'aaddeebb': [185],\n",
       "             'ddaaeeaa': [192],\n",
       "             'eebbaadd': [199],\n",
       "             'ccccaaee': [203],\n",
       "             'ccaaeecc': [204],\n",
       "             'aaeebbee': [205],\n",
       "             'eeaaeebb': [206],\n",
       "             'eeddddaa': [209],\n",
       "             'eeeeaabb': [210],\n",
       "             'aaccbbee': [215],\n",
       "             'aaddccee': [217, 224],\n",
       "             'bbaaccee': [218],\n",
       "             'ddaaccee': [235],\n",
       "             'bbddaaee': [238],\n",
       "             'ddbbeeaa': [239]})"
      ]
     },
     "execution_count": 7,
     "metadata": {},
     "output_type": "execute_result"
    }
   ],
   "source": [
    "sax_none"
   ]
  },
  {
   "cell_type": "code",
   "execution_count": null,
   "metadata": {},
   "outputs": [],
   "source": []
  }
 ],
 "metadata": {
  "kernelspec": {
   "display_name": "Python 3",
   "language": "python",
   "name": "python3"
  },
  "language_info": {
   "codemirror_mode": {
    "name": "ipython",
    "version": 3
   },
   "file_extension": ".py",
   "mimetype": "text/x-python",
   "name": "python",
   "nbconvert_exporter": "python",
   "pygments_lexer": "ipython3",
   "version": "3.7.6"
  }
 },
 "nbformat": 4,
 "nbformat_minor": 4
}
