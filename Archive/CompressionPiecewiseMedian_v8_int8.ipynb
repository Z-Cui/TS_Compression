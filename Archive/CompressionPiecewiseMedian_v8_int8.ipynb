{
 "cells": [
  {
   "cell_type": "markdown",
   "metadata": {},
   "source": [
    "# Part 1: Time Series Data Summarization"
   ]
  },
  {
   "cell_type": "code",
   "execution_count": 1,
   "metadata": {},
   "outputs": [],
   "source": [
    "import numpy as np\n",
    "import matplotlib.pyplot as plt"
   ]
  },
  {
   "cell_type": "markdown",
   "metadata": {},
   "source": [
    "## Time Series Compression and Reconstruction"
   ]
  },
  {
   "cell_type": "code",
   "execution_count": 2,
   "metadata": {},
   "outputs": [],
   "source": [
    "def compress_to_size(x, size):\n",
    "    piece_size = 256/size\n",
    "    com_x = []\n",
    "    for i in range(size):\n",
    "        com_x.append(np.median(x[int(i*piece_size):int(i*piece_size+piece_size-1)]))\n",
    "    return np.array(com_x)\n",
    "def decompress256(x, size):\n",
    "    piece_size = int(256/int(x.shape[0]))\n",
    "    rec_x = []\n",
    "    for i in range(x.shape[0]):\n",
    "        for j in range(piece_size):\n",
    "            rec_x.append(x[i])\n",
    "    return np.array(rec_x)"
   ]
  },
  {
   "cell_type": "markdown",
   "metadata": {},
   "source": [
    "### Interface to facilitate euclidean distance calculation"
   ]
  },
  {
   "cell_type": "code",
   "execution_count": 3,
   "metadata": {},
   "outputs": [],
   "source": [
    "# An interface to calculate euclidean distance between 2 signals\n",
    "def euc_dist(x,y):\n",
    "    return float(np.linalg.norm(x - y))\n",
    "\n",
    "# Calculate RMSE\n",
    "from sklearn.metrics import mean_squared_error\n",
    "from math import sqrt\n",
    "def rmse(x,y):\n",
    "    return sqrt(mean_squared_error(x, y))"
   ]
  },
  {
   "cell_type": "code",
   "execution_count": null,
   "metadata": {},
   "outputs": [],
   "source": []
  },
  {
   "cell_type": "markdown",
   "metadata": {},
   "source": [
    "# Test of Part 1: Compression and Reconstruction with given 50k time_series"
   ]
  },
  {
   "cell_type": "markdown",
   "metadata": {},
   "source": [
    "## Load 50k time_series (synthetic and synthetic)"
   ]
  },
  {
   "cell_type": "code",
   "execution_count": 4,
   "metadata": {},
   "outputs": [],
   "source": [
    "import struct\n",
    "filename_synthetic = 'synthetic_size50k_len256_znorm.bin'\n",
    "with open(filename_synthetic, 'rb') as in_file:\n",
    "    time_series_synthetic = np.array(struct.unpack('f' * 50000 * 256, in_file.read())).reshape(-1,256)\n",
    "\n",
    "filename_seismic = 'seismic_size50k_len256_znorm.bin'\n",
    "with open(filename_seismic, 'rb') as in_file:\n",
    "    time_series_seismic = np.array(struct.unpack('f' * 50000 * 256, in_file.read())).reshape(-1,256)"
   ]
  },
  {
   "cell_type": "markdown",
   "metadata": {},
   "source": [
    "## Data compression and reconstruction for 50k seismic time_series"
   ]
  },
  {
   "cell_type": "code",
   "execution_count": 5,
   "metadata": {},
   "outputs": [],
   "source": [
    "# Following code is to compress and reconstruct seismic data\n",
    "# every time serie will be compressed from 256 to 128/64/32\n",
    "# then the compressed data will be \"enlarged\" from 128/64/32 to 256\n",
    "\n",
    "# Initialize variables to record reconstruction error for 50k time_series\n",
    "errorList_128_seismic = []\n",
    "errorList_64_seismic = []\n",
    "errorList_32_seismic = []\n",
    "\n",
    "data_size = 50000\n",
    "for i in range(data_size):\n",
    "    x = time_series_seismic[i,] # x contains 256 float numbers\n",
    "    \n",
    "    # 256 -> 128 -> 256\n",
    "    resized_128 = compress_to_size(x, 128)\n",
    "    \n",
    "    scale_n = 127 / max(abs(np.amax(resized_128)), abs(np.amin(resized_128)))\n",
    "    resized_128 = np.multiply(resized_128, scale_n).round().astype(np.int8)\n",
    "    resized_128 = np.multiply(resized_128, 1/scale_n).astype(np.float32)\n",
    "    \n",
    "    reconstructed_128 = decompress256(resized_128, 128)\n",
    "    errorList_128_seismic.append(rmse(x, reconstructed_128))\n",
    "    \n",
    "    # 256 -> 64 -> 256\n",
    "    resized_64 = compress_to_size(x, 64)\n",
    "    \n",
    "    scale_n = 127 / max(abs(np.amax(resized_64)), abs(np.amin(resized_64)))\n",
    "    resized_64 = np.multiply(resized_64, scale_n).round().astype(np.int8)\n",
    "    resized_64 = np.multiply(resized_64, 1/scale_n).astype(np.float32)\n",
    "    \n",
    "    reconstructed_64 = decompress256(resized_64, 64)\n",
    "    errorList_64_seismic.append(rmse(x, reconstructed_64))\n",
    "    \n",
    "    # 256 -> 32 -> 256\n",
    "    resized_32 = compress_to_size(x, 32)\n",
    "    \n",
    "    scale_n = 127 / max(abs(np.amax(resized_32)), abs(np.amin(resized_32)))\n",
    "    resized_32 = np.multiply(resized_32, scale_n).round().astype(np.int8)\n",
    "    resized_32 = np.multiply(resized_32, 1/scale_n).astype(np.float32)\n",
    "    \n",
    "    reconstructed_32 = decompress256(resized_32, 32)\n",
    "    errorList_32_seismic.append(rmse(x, reconstructed_32))"
   ]
  },
  {
   "cell_type": "markdown",
   "metadata": {},
   "source": [
    "## Data compression and reconstruction for 50k synthetic time_series"
   ]
  },
  {
   "cell_type": "code",
   "execution_count": 6,
   "metadata": {},
   "outputs": [],
   "source": [
    "# Following code is to compress and reconstruct synthetic data\n",
    "# every time serie will be compressed from 256 to 128/64/32\n",
    "# then the compressed data will be \"enlarged\" from 128/64/32 to 256\n",
    "\n",
    "# Initialize variables to record reconstruction error for 50k time_series\n",
    "errorList_128_synthetic = []\n",
    "errorList_64_synthetic = []\n",
    "errorList_32_synthetic = []\n",
    "\n",
    "data_size = 50000\n",
    "for i in range(data_size):\n",
    "    x = time_series_synthetic[i,] # x contains 256 float numbers\n",
    "    \n",
    "    # 256 -> 128 -> 256\n",
    "    resized_128 = compress_to_size(x, 128)\n",
    "    \n",
    "    scale_n = 127 / max(abs(np.amax(resized_128)), abs(np.amin(resized_128)))\n",
    "    resized_128 = np.multiply(resized_128, scale_n).round().astype(np.int8)\n",
    "    resized_128 = np.multiply(resized_128, 1/scale_n).astype(np.float32)\n",
    "    \n",
    "    reconstructed_128 = decompress256(resized_128, 128)\n",
    "    errorList_128_synthetic.append(rmse(x, reconstructed_128))\n",
    "    \n",
    "    # 256 -> 64 -> 256\n",
    "    resized_64 = compress_to_size(x, 64)\n",
    "    \n",
    "    scale_n = 127 / max(abs(np.amax(resized_64)), abs(np.amin(resized_64)))\n",
    "    resized_64 = np.multiply(resized_64, scale_n).round().astype(np.int8)\n",
    "    resized_64 = np.multiply(resized_64, 1/scale_n).astype(np.float32)\n",
    "    \n",
    "    reconstructed_64 = decompress256(resized_64, 64)\n",
    "    errorList_64_synthetic.append(rmse(x, reconstructed_64))\n",
    "    \n",
    "    # 256 -> 32 -> 256\n",
    "    resized_32 = compress_to_size(x, 32)\n",
    "    \n",
    "    scale_n = 127 / max(abs(np.amax(resized_32)), abs(np.amin(resized_32)))\n",
    "    resized_32 = np.multiply(resized_32, scale_n).round().astype(np.int8)\n",
    "    resized_32 = np.multiply(resized_32, 1/scale_n).astype(np.float32)\n",
    "    \n",
    "    reconstructed_32 = decompress256(resized_32, 32)\n",
    "    errorList_32_synthetic.append(rmse(x, reconstructed_32))"
   ]
  },
  {
   "cell_type": "markdown",
   "metadata": {},
   "source": [
    "# Evaluate reconstruction error"
   ]
  },
  {
   "cell_type": "code",
   "execution_count": 7,
   "metadata": {},
   "outputs": [],
   "source": [
    "def summarize_data(x):\n",
    "    print(\"Average:\", np.mean(x), \" Mean:\", np.median(x), \" Max:\", np.max(x), \" Min:\", np.min(x), \"\\n\")"
   ]
  },
  {
   "cell_type": "markdown",
   "metadata": {},
   "source": [
    "### 50k seismic"
   ]
  },
  {
   "cell_type": "code",
   "execution_count": 8,
   "metadata": {},
   "outputs": [
    {
     "name": "stdout",
     "output_type": "stream",
     "text": [
      "Reconstruction Error of 50k seismic time series: 128 -> 256\n",
      "Average: 1.118898127317459  Mean: 1.1373038564976317  Max: 1.2973524931035298  Min: 0.3224145992960927 \n",
      "\n",
      "Reconstruction Error of 50k seismic time series: 64 -> 256\n",
      "Average: 1.0871975652245842  Mean: 1.0910769854995048  Max: 1.2017938732187934  Min: 0.49388439735533696 \n",
      "\n",
      "Reconstruction Error of 50k seismic time series: 32 -> 256\n",
      "Average: 1.0384317529222786  Mean: 1.0388774208539897  Max: 1.1131421040379372  Min: 0.7190042486167363 \n",
      "\n"
     ]
    }
   ],
   "source": [
    "# Reconstruction error for 50k seismic time_series\n",
    "print(\"Reconstruction Error of 50k seismic time series: 128 -> 256\")\n",
    "summarize_data(errorList_128_seismic)\n",
    "print(\"Reconstruction Error of 50k seismic time series: 64 -> 256\")\n",
    "summarize_data(errorList_64_seismic)\n",
    "print(\"Reconstruction Error of 50k seismic time series: 32 -> 256\")\n",
    "summarize_data(errorList_32_seismic)"
   ]
  },
  {
   "cell_type": "markdown",
   "metadata": {},
   "source": [
    "### 50k synthetic"
   ]
  },
  {
   "cell_type": "code",
   "execution_count": 9,
   "metadata": {},
   "outputs": [
    {
     "name": "stdout",
     "output_type": "stream",
     "text": [
      "Reconstruction Error of 50k synthetic time series: 128 -> 256\n",
      "Average: 0.13494243749891457  Mean: 0.12767290570570225  Max: 0.40473844519475505  Min: 0.03162668469426306 \n",
      "\n",
      "Reconstruction Error of 50k synthetic time series: 64 -> 256\n",
      "Average: 0.17092912504315963  Mean: 0.1620366795403645  Max: 0.5283380265172967  Min: 0.04458727257739773 \n",
      "\n",
      "Reconstruction Error of 50k synthetic time series: 32 -> 256\n",
      "Average: 0.2305236115264109  Mean: 0.21912740986778695  Max: 0.6671453722074197  Min: 0.06247973773235742 \n",
      "\n"
     ]
    }
   ],
   "source": [
    "# Reconstruction error for 50k synthetic time_series\n",
    "print(\"Reconstruction Error of 50k synthetic time series: 128 -> 256\")\n",
    "summarize_data(errorList_128_synthetic)\n",
    "print(\"Reconstruction Error of 50k synthetic time series: 64 -> 256\")\n",
    "summarize_data(errorList_64_synthetic)\n",
    "print(\"Reconstruction Error of 50k synthetic time series: 32 -> 256\")\n",
    "summarize_data(errorList_32_synthetic)"
   ]
  },
  {
   "cell_type": "markdown",
   "metadata": {},
   "source": [
    "## Visualize reconstruction errors of 50k time series with Boxplot"
   ]
  },
  {
   "cell_type": "code",
   "execution_count": 10,
   "metadata": {},
   "outputs": [],
   "source": [
    "plt.rcParams['figure.figsize'] = [12, 6]"
   ]
  },
  {
   "cell_type": "code",
   "execution_count": 11,
   "metadata": {},
   "outputs": [
    {
     "data": {
      "text/plain": [
       "<function matplotlib.pyplot.show(*args, **kw)>"
      ]
     },
     "execution_count": 11,
     "metadata": {},
     "output_type": "execute_result"
    },
    {
     "data": {
      "image/png": "[encoded data removed]",
      "text/plain": [
       "<Figure size 864x432 with 2 Axes>"
      ]
     },
     "metadata": {
      "needs_background": "light"
     },
     "output_type": "display_data"
    }
   ],
   "source": [
    "plt.subplot(1,2,1)\n",
    "plt.boxplot([errorList_128_seismic, errorList_64_seismic, errorList_32_seismic])\n",
    "plt.title('Reconstruction error - 50k seismic time series')\n",
    "plt.xticks([1, 2, 3], ['128 -> 256', '64 -> 256', '32 -> 256'])\n",
    "\n",
    "plt.subplot(1,2,2)\n",
    "plt.boxplot([errorList_128_synthetic, errorList_64_synthetic, errorList_32_synthetic])\n",
    "plt.title('Reconstruction error - 50k synthetic time series')\n",
    "plt.xticks([1, 2, 3], ['128 -> 256', '64 -> 256', '32 -> 256'])\n",
    "\n",
    "plt.tight_layout()\n",
    "plt.show"
   ]
  },
  {
   "cell_type": "markdown",
   "metadata": {},
   "source": [
    "# Example: Visualization of Data Compression and Reconstruction"
   ]
  },
  {
   "cell_type": "code",
   "execution_count": 12,
   "metadata": {},
   "outputs": [],
   "source": [
    "plt.rcParams['figure.figsize'] = [15, 7.5]"
   ]
  },
  {
   "cell_type": "code",
   "execution_count": 13,
   "metadata": {},
   "outputs": [
    {
     "data": {
      "text/plain": [
       "<function matplotlib.pyplot.show(*args, **kw)>"
      ]
     },
     "execution_count": 13,
     "metadata": {},
     "output_type": "execute_result"
    },
    {
     "data": {
      "image/png": "[encoded data removed]",
      "text/plain": [
       "<Figure size 1080x540 with 3 Axes>"
      ]
     },
     "metadata": {
      "needs_background": "light"
     },
     "output_type": "display_data"
    }
   ],
   "source": [
    "import random\n",
    "i = random.randrange(0,49999)\n",
    "t = range(256)\n",
    "x = time_series_synthetic[i,]\n",
    "rec_128 = decompress256(compress_to_size(x, 128), 128)\n",
    "rec_64 = decompress256(compress_to_size(x, 64), 64)\n",
    "rec_32 = decompress256(compress_to_size(x, 32), 32)\n",
    "\n",
    "plt.subplot(3,1,1)\n",
    "plt.plot(t, x, t, rec_128)\n",
    "plt.title(str(i)+'-th time series: Original & Reconstructed 128->256')\n",
    "\n",
    "plt.subplot(3,1,2)\n",
    "plt.plot(t, x, t, rec_64)\n",
    "plt.title(str(i)+'-th time series: Original & Reconstructed 64->256')\n",
    "\n",
    "plt.subplot(3,1,3)\n",
    "plt.plot(t, x, t, rec_32)\n",
    "plt.title(str(i)+'-th time series: Original & Reconstructed 32->256')\n",
    "\n",
    "plt.tight_layout()\n",
    "plt.show"
   ]
  },
  {
   "cell_type": "code",
   "execution_count": null,
   "metadata": {},
   "outputs": [],
   "source": []
  },
  {
   "cell_type": "markdown",
   "metadata": {},
   "source": [
    "# Part 2: Similarity Search by using Euclidean Distance (with Data Summarization)"
   ]
  },
  {
   "cell_type": "markdown",
   "metadata": {},
   "source": [
    "## Function: Similarity Search WITH Data Summarization"
   ]
  },
  {
   "cell_type": "code",
   "execution_count": 14,
   "metadata": {},
   "outputs": [],
   "source": [
    "def similarity_euclidean_compression(q, time_series, compress_size):\n",
    "    \n",
    "    # Compress the query signal to a smaller time series which contains \"compress_size\" float numbers\n",
    "    q_com = compress_to_size(q, compress_size)\n",
    "\n",
    "    D_closest_com = 10000.0  # Initialize closest distance for compressed time series as infinitiy\n",
    "    D_closest_256 = 10000.0  # Initialize closest distance for original time series as infinitiy\n",
    "    index_closest = 0        # Initialize closest time series' index as 0\n",
    "    pruning_count = 0        # Initialize pruning count as 0\n",
    "    \n",
    "    for i in range(time_series.shape[0]): # Loop for all time_series\n",
    "        x = time_series[i, ]\n",
    "        x_com = compress_to_size(x, compress_size)\n",
    "        \n",
    "        dist_com = euc_dist(q_com, x_com) # Calculate euclidean distance between compressed time series\n",
    "        if D_closest_com > dist_com:\n",
    "            \n",
    "            dist_256 = euc_dist(q, x) # Calculate the euclidean distance between original time series\n",
    "            if D_closest_256 > dist_256:\n",
    "                \n",
    "                # Memorization\n",
    "                D_closest_com = dist_com\n",
    "                D_closest_256 = dist_256\n",
    "                index_closest = i\n",
    "        \n",
    "        # When euclidean distance between compressed time series is bigger\n",
    "        else:\n",
    "            # The time series is pruned, we count all pruned times\n",
    "            pruning_count += 1\n",
    "            \n",
    "    # Return index, distance and pruning times for this similarity search\n",
    "    return index_closest, D_closest_256, pruning_count"
   ]
  },
  {
   "cell_type": "markdown",
   "metadata": {},
   "source": [
    "## Function: Similarity Search WITHOUT Data Summarization"
   ]
  },
  {
   "cell_type": "code",
   "execution_count": 15,
   "metadata": {},
   "outputs": [],
   "source": [
    "def similarity_euclidean_no_compression(q, time_series):\n",
    "\n",
    "    D_closest_256 = 10000.0  # Initialize original minimum distance as infinitiy\n",
    "    index_closest = 0        # Initialize closest time series' index as 0\n",
    "    \n",
    "    for i in range(time_series.shape[0]): # Loop for all time_series\n",
    "        x = time_series[i, ]\n",
    "        dist_256 = euc_dist(q, x) # Calculate the euclidean distance between original time series\n",
    "        \n",
    "        if D_closest_256 > dist_256:\n",
    "            D_closest_256 = dist_256\n",
    "            index_closest = i\n",
    "            \n",
    "    # Return index, distance for this similarity search\n",
    "    return index_closest, D_closest_256"
   ]
  },
  {
   "cell_type": "markdown",
   "metadata": {},
   "source": [
    "# Test 2: Similarity Search WITH and WITHOUT Data Summarization"
   ]
  },
  {
   "cell_type": "markdown",
   "metadata": {},
   "source": [
    "## Load 100 query time_series and 50k time_series (synthetic and synthetic)"
   ]
  },
  {
   "cell_type": "code",
   "execution_count": 16,
   "metadata": {},
   "outputs": [],
   "source": [
    "import struct\n",
    "filename_seismic_query = 'seismic-query_size100_len256_znorm.bin'\n",
    "with open(filename_seismic_query, 'rb') as in_file:\n",
    "    time_series_seismic_query = np.array(struct.unpack('f' * 100 * 256, in_file.read())).reshape(-1,256)\n",
    "\n",
    "filename_synthetic_query = 'synthetic-query_size100_len256_znorm.bin'\n",
    "with open(filename_synthetic_query, 'rb') as in_file:\n",
    "    time_series_synthetic_query = np.array(struct.unpack('f' * 100 * 256, in_file.read())).reshape(-1,256)\n",
    "\n",
    "filename_seismic = 'seismic_size50k_len256_znorm.bin'\n",
    "with open(filename_synthetic, 'rb') as in_file:\n",
    "    time_series_seismic = np.array(struct.unpack('f' * 50000 * 256, in_file.read())).reshape(-1,256)\n",
    "\n",
    "filename_synthetic = 'synthetic_size50k_len256_znorm.bin'\n",
    "with open(filename_synthetic, 'rb') as in_file:\n",
    "    time_series_synthetic = np.array(struct.unpack('f' * 50000 * 256, in_file.read())).reshape(-1,256)"
   ]
  },
  {
   "cell_type": "markdown",
   "metadata": {},
   "source": [
    "## For every query time series, find a closest time series from 50k"
   ]
  },
  {
   "cell_type": "markdown",
   "metadata": {},
   "source": [
    "### Initialize memorization variables"
   ]
  },
  {
   "cell_type": "code",
   "execution_count": 17,
   "metadata": {},
   "outputs": [],
   "source": [
    "distSimilarity_128_seismic = []\n",
    "distSimilarity_64_seismic = []\n",
    "distSimilarity_32_seismic = []\n",
    "distSimilarity_seismic = []\n",
    "\n",
    "indexSimilarity_128_seismic = []\n",
    "indexSimilarity_64_seismic = []\n",
    "indexSimilarity_32_seismic = []\n",
    "indexSimilarity_seismic = []\n",
    "\n",
    "pruning_count_128_seismic = 0\n",
    "pruning_count_64_seismic = 0\n",
    "pruning_count_32_seismic = 0\n",
    "\n",
    "distSimilarity_128_synthetic = []\n",
    "distSimilarity_64_synthetic = []\n",
    "distSimilarity_32_synthetic = []\n",
    "distSimilarity_synthetic = []\n",
    "\n",
    "indexSimilarity_128_synthetic = []\n",
    "indexSimilarity_64_synthetic = []\n",
    "indexSimilarity_32_synthetic = []\n",
    "indexSimilarity_synthetic = []\n",
    "\n",
    "pruning_count_128_synthetic = 0\n",
    "pruning_count_64_synthetic = 0\n",
    "pruning_count_32_synthetic = 0"
   ]
  },
  {
   "cell_type": "markdown",
   "metadata": {},
   "source": [
    "## Similarity search WITH data summarization(128/64/32) and WITHOUT data summarization"
   ]
  },
  {
   "cell_type": "markdown",
   "metadata": {},
   "source": [
    "### 100 seismic queries"
   ]
  },
  {
   "cell_type": "code",
   "execution_count": null,
   "metadata": {},
   "outputs": [],
   "source": [
    "query_size = 100\n",
    "for i in range(query_size):\n",
    "    \n",
    "    # Seismic\n",
    "    q = time_series_seismic_query[i,]\n",
    "    # 128\n",
    "    idx, dist, pruning_count = similarity_euclidean_compression(q, time_series_seismic, 128)\n",
    "    distSimilarity_128_seismic.append(dist)\n",
    "    indexSimilarity_128_seismic.append(idx)\n",
    "    pruning_count_128_seismic += pruning_count\n",
    "    # 64\n",
    "    idx, dist, pruning_count = similarity_euclidean_compression(q, time_series_seismic, 64)\n",
    "    distSimilarity_64_seismic.append(dist)\n",
    "    indexSimilarity_64_seismic.append(idx)\n",
    "    pruning_count_64_seismic += pruning_count\n",
    "    # 32\n",
    "    idx, dist, pruning_count = similarity_euclidean_compression(q, time_series_seismic, 32)\n",
    "    distSimilarity_32_seismic.append(dist)\n",
    "    indexSimilarity_32_seismic.append(idx)\n",
    "    pruning_count_32_seismic += pruning_count\n",
    "    # without data summarization\n",
    "    idx_no_com, dist_no_com = similarity_euclidean_no_compression(q, time_series_seismic)\n",
    "    distSimilarity_seismic.append(dist_no_com)\n",
    "    indexSimilarity_seismic.append(idx_no_com)"
   ]
  },
  {
   "cell_type": "markdown",
   "metadata": {},
   "source": [
    "### 100 synthetic queries"
   ]
  },
  {
   "cell_type": "code",
   "execution_count": null,
   "metadata": {},
   "outputs": [],
   "source": [
    "query_size = 100\n",
    "for i in range(query_size):\n",
    "    \n",
    "    # Synthetic\n",
    "    q = time_series_synthetic_query[i,]\n",
    "    # 128\n",
    "    idx, dist, pruning_count = similarity_euclidean_compression(q, time_series_synthetic, 128)\n",
    "    distSimilarity_128_synthetic.append(dist)\n",
    "    indexSimilarity_128_synthetic.append(idx)\n",
    "    pruning_count_128_synthetic += pruning_count\n",
    "    # 64\n",
    "    idx, dist, pruning_count = similarity_euclidean_compression(q, time_series_synthetic, 64)\n",
    "    distSimilarity_64_synthetic.append(dist)\n",
    "    indexSimilarity_64_synthetic.append(idx)\n",
    "    pruning_count_64_synthetic += pruning_count\n",
    "    # 32\n",
    "    idx, dist, pruning_count = similarity_euclidean_compression(q, time_series_synthetic, 32)\n",
    "    distSimilarity_32_synthetic.append(dist)\n",
    "    indexSimilarity_32_synthetic.append(idx)\n",
    "    pruning_count_32_synthetic += pruning_count\n",
    "    # without data summarization\n",
    "    idx_no_com, dist_no_com = similarity_euclidean_no_compression(q, time_series_synthetic)\n",
    "    distSimilarity_synthetic.append(dist_no_com)\n",
    "    indexSimilarity_synthetic.append(idx_no_com)"
   ]
  },
  {
   "cell_type": "markdown",
   "metadata": {},
   "source": [
    "## Pruning ratio"
   ]
  },
  {
   "cell_type": "code",
   "execution_count": null,
   "metadata": {},
   "outputs": [],
   "source": [
    "size = 100\n",
    "print(\"Similarity search for seismic time series:\")\n",
    "print(\"Average pruning ratio 128/64/32: \", pruning_count_128_seismic/size/50000, pruning_count_64_seismic/size/50000, pruning_count_32_seismic/size/50000)\n",
    "\n",
    "print(\"Similarity search for synthetic time series:\")\n",
    "print(\"Average pruning ratio 128/64/32: \", pruning_count_128_synthetic/size/50000, pruning_count_64_synthetic/size/50000, pruning_count_32_synthetic/size/50000)"
   ]
  },
  {
   "cell_type": "markdown",
   "metadata": {},
   "source": [
    "# Comparison of similarity search error: with data summarization (128/64/32) and without data summarization"
   ]
  },
  {
   "cell_type": "code",
   "execution_count": null,
   "metadata": {},
   "outputs": [],
   "source": [
    "print(\"Seismic time series: \")\n",
    "print(\"---------------------\")\n",
    "print(\"Similarity search error - with data summarization (128)\")\n",
    "summarize_data(distSimilarity_128_seismic)\n",
    "print(\"Similarity search error - with data summarization (64)\")\n",
    "summarize_data(distSimilarity_64_seismic)\n",
    "print(\"Similarity search error - with data summarization (32)\")\n",
    "summarize_data(distSimilarity_32_seismic)\n",
    "print(\"Similarity search error - without data summarization\")\n",
    "summarize_data(distSimilarity_seismic)"
   ]
  },
  {
   "cell_type": "code",
   "execution_count": null,
   "metadata": {},
   "outputs": [],
   "source": [
    "print(\"Synthetic time series: \")\n",
    "print(\"---------------------\")\n",
    "print(\"Similarity search error - with data summarization (128)\")\n",
    "summarize_data(distSimilarity_128_synthetic)\n",
    "print(\"Similarity search error - with data summarization (64)\")\n",
    "summarize_data(distSimilarity_64_synthetic)\n",
    "print(\"Similarity search error - with data summarization (32)\")\n",
    "summarize_data(distSimilarity_32_synthetic)\n",
    "print(\"Similarity search error - without data summarization\")\n",
    "summarize_data(distSimilarity_synthetic)"
   ]
  },
  {
   "cell_type": "code",
   "execution_count": null,
   "metadata": {},
   "outputs": [],
   "source": [
    "plt.rcParams['figure.figsize'] = [12, 6]"
   ]
  },
  {
   "cell_type": "code",
   "execution_count": null,
   "metadata": {},
   "outputs": [],
   "source": [
    "plt.subplot(1,2,1)\n",
    "plt.boxplot([distSimilarity_128_seismic, distSimilarity_64_seismic, distSimilarity_32_seismic, distSimilarity_seismic])\n",
    "plt.title('Similarity search error - 100 seismic time series')\n",
    "plt.xticks([1, 2, 3, 4], ['128', '64', '32', 'no_compression'])\n",
    "\n",
    "plt.subplot(1,2,2)\n",
    "plt.boxplot([distSimilarity_128_synthetic, distSimilarity_64_synthetic, distSimilarity_32_synthetic, distSimilarity_synthetic])\n",
    "plt.title('Similarity search error - 100 synthetic time series')\n",
    "plt.xticks([1, 2, 3, 4], ['128', '64', '32', 'no_compression'])\n",
    "\n",
    "plt.tight_layout()\n",
    "plt.show"
   ]
  },
  {
   "cell_type": "markdown",
   "metadata": {},
   "source": [
    "## Visualize found closest signals WITH and WITHOUT data summarization - Seismic"
   ]
  },
  {
   "cell_type": "code",
   "execution_count": null,
   "metadata": {},
   "outputs": [],
   "source": [
    "plt.rcParams['figure.figsize'] = [15, 10]"
   ]
  },
  {
   "cell_type": "code",
   "execution_count": null,
   "metadata": {},
   "outputs": [],
   "source": [
    "import random\n",
    "i = random.randrange(0,99)\n",
    "t = range(256)\n",
    "x = time_series_synthetic_query[i,]\n",
    "\n",
    "plt.subplot(4,1,1)\n",
    "plt.plot(t, x, t, time_series_seismic[indexSimilarity_128_seismic[i],])\n",
    "plt.title(str(i)+'-th time series: Original & Searched with 128')\n",
    "\n",
    "plt.subplot(4,1,2)\n",
    "plt.plot(t, x, t, time_series_seismic[indexSimilarity_64_seismic[i],])\n",
    "plt.title(str(i)+'-th time series: Original & Searched with 64')\n",
    "\n",
    "plt.subplot(4,1,3)\n",
    "plt.plot(t, x, t, time_series_seismic[indexSimilarity_32_seismic[i],])\n",
    "plt.title(str(i)+'-th time series: Original & Searched with 32')\n",
    "\n",
    "plt.subplot(4,1,4)\n",
    "plt.plot(t, x, t, time_series_seismic[indexSimilarity_seismic[i],])\n",
    "plt.title(str(i)+'-th time series: Original & Searched without data summarization')\n",
    "\n",
    "plt.tight_layout()\n",
    "plt.show"
   ]
  },
  {
   "cell_type": "markdown",
   "metadata": {},
   "source": [
    "## Visualize found closest signals WITH and WITHOUT data summarization - Synthetic"
   ]
  },
  {
   "cell_type": "code",
   "execution_count": null,
   "metadata": {},
   "outputs": [],
   "source": [
    "plt.rcParams['figure.figsize'] = [15, 10]"
   ]
  },
  {
   "cell_type": "code",
   "execution_count": null,
   "metadata": {},
   "outputs": [],
   "source": [
    "import random\n",
    "i = random.randrange(0,99)\n",
    "t = range(256)\n",
    "x = time_series_synthetic_query[i,]\n",
    "\n",
    "plt.subplot(4,1,1)\n",
    "plt.plot(t, x, t, time_series_synthetic[indexSimilarity_128_synthetic[i],])\n",
    "plt.title(str(i)+'-th time series: Original & Searched with 128')\n",
    "\n",
    "plt.subplot(4,1,2)\n",
    "plt.plot(t, x, t, time_series_synthetic[indexSimilarity_64_synthetic[i],])\n",
    "plt.title(str(i)+'-th time series: Original & Searched with 64')\n",
    "\n",
    "plt.subplot(4,1,3)\n",
    "plt.plot(t, x, t, time_series_synthetic[indexSimilarity_32_synthetic[i],])\n",
    "plt.title(str(i)+'-th time series: Original & Searched with 32')\n",
    "\n",
    "plt.subplot(4,1,4)\n",
    "plt.plot(t, x, t, time_series_synthetic[indexSimilarity_synthetic[i],])\n",
    "plt.title(str(i)+'-th time series: Original & Searched without data summarization')\n",
    "\n",
    "plt.tight_layout()\n",
    "plt.show"
   ]
  },
  {
   "cell_type": "code",
   "execution_count": null,
   "metadata": {},
   "outputs": [],
   "source": []
  },
  {
   "cell_type": "code",
   "execution_count": null,
   "metadata": {},
   "outputs": [],
   "source": []
  }
 ],
 "metadata": {
  "kernelspec": {
   "display_name": "Python 3",
   "language": "python",
   "name": "python3"
  },
  "language_info": {
   "codemirror_mode": {
    "name": "ipython",
    "version": 3
   },
   "file_extension": ".py",
   "mimetype": "text/x-python",
   "name": "python",
   "nbconvert_exporter": "python",
   "pygments_lexer": "ipython3",
   "version": "3.7.6"
  }
 },
 "nbformat": 4,
 "nbformat_minor": 4
}
