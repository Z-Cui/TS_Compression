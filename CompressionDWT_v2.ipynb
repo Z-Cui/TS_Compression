{
 "cells": [
  {
   "cell_type": "code",
   "execution_count": 1,
   "metadata": {},
   "outputs": [
    {
     "name": "stdout",
     "output_type": "stream",
     "text": [
      "01_load_data.ipynb\t       compressed64_50k_seismic.npy\n",
      "02_try_wity_pywavelets.ipynb   CompressionDWT_v2.ipynb\n",
      "03_haar_dwt.ipynb\t       CompressionDWT_v3.ipynb\n",
      "04_example_pywavelets.ipynb    humidity.csv\n",
      "05_db_dwt.ipynb\t\t       reconstructed_128to256_50k_seismic.npy\n",
      "1d.ipynb\t\t       reconstructed_16to256_50k_seismic.npy\n",
      "compressed128_50k.npy\t       reconstructed_32to256_50k_seismic.npy\n",
      "compressed128_50k_seismic.npy  reconstructed_64to256_50k_seismic.npy\n",
      "compressed16_50k.npy\t       seismic-query_size100_len256_znorm.bin\n",
      "compressed16_50k_seismic.npy   seismic_size50k_len256_znorm.bin\n",
      "compressed32_50k.npy\t       synthetic-query_size100_len256_znorm.bin\n",
      "compressed32_50k_seismic.npy   synthetic_size50k_len256_znorm.bin\n",
      "compressed64_50k.npy\n"
     ]
    }
   ],
   "source": [
    "!ls"
   ]
  },
  {
   "cell_type": "code",
   "execution_count": 2,
   "metadata": {},
   "outputs": [],
   "source": [
    "import struct\n",
    "import pywt # python library for wavelet transformation\n",
    "import numpy as np\n",
    "import matplotlib.pyplot as plt\n",
    "#plt.rcParams['figure.figsize'] = [15, 7]"
   ]
  },
  {
   "cell_type": "code",
   "execution_count": 3,
   "metadata": {},
   "outputs": [],
   "source": [
    "# load a data set with 100 signals\n",
    "filename = 'synthetic_size50k_len256_znorm.bin'\n",
    "#time_series = np.fromfile(filename, dtype=np.float32).reshape(-1,256)\n",
    "with open(filename, 'rb') as in_file:\n",
    "    time_series = np.array(struct.unpack('f' * 50000 * 256, in_file.read())).reshape(-1,256)"
   ]
  },
  {
   "cell_type": "code",
   "execution_count": 4,
   "metadata": {},
   "outputs": [],
   "source": [
    "# compression of data set 'x' to half size, e.g. 256 -> 128\n",
    "def compress(x):\n",
    "    compressed_x, cD = pywt.dwt(x, 'db1')\n",
    "    return compressed_x\n",
    "# reconstruction of data set 'y' to twice size, e.g. 64 -> 128\n",
    "def reconstruct(y):\n",
    "    reconstructed_y = pywt.idwt(y, None, 'db1')\n",
    "    return reconstructed_y"
   ]
  },
  {
   "cell_type": "code",
   "execution_count": 5,
   "metadata": {},
   "outputs": [],
   "source": [
    "# compression of data set 'x' to [x.original_size / 2**i] \n",
    "def com_iterative(x, i):\n",
    "    for k in range(i):\n",
    "        compressed_x = compress(x)\n",
    "        x = compressed_x\n",
    "    return x\n",
    "# reconstruction of data set 'y' to [y.original_size * 2**i]\n",
    "def rec_iterative(y, i):\n",
    "    tmp = y\n",
    "    for k in range(i):\n",
    "        reconstructed_y = reconstruct(tmp)\n",
    "        tmp = reconstructed_y\n",
    "    return reconstructed_y"
   ]
  },
  {
   "cell_type": "code",
   "execution_count": 6,
   "metadata": {},
   "outputs": [],
   "source": [
    "# Create interface functions to encode/decode easily\n",
    "def encoder128(x):\n",
    "    return com_iterative(x, int(np.power(x.shape[0]/128, 1/2)))\n",
    "def encoder64(x):\n",
    "    return com_iterative(x, int(np.power(x.shape[0]/64, 1/2)))\n",
    "def encoder32(x):\n",
    "    return com_iterative(x, int(np.power(x.shape[0]/32, 1/2)))\n",
    "def decoder256(y):\n",
    "    return rec_iterative(y, int(np.power(256/y.shape[0], 1/2)))"
   ]
  },
  {
   "cell_type": "code",
   "execution_count": 7,
   "metadata": {},
   "outputs": [],
   "source": [
    "# let x be the first signal of 256 float values\n",
    "x = time_series[0,]\n",
    "# encode(compress) to 128 values\n",
    "resized = encoder128(x)\n",
    "# reconstruct a 256 value signal from the resized signal\n",
    "y = decoder256(resized)"
   ]
  },
  {
   "cell_type": "code",
   "execution_count": 8,
   "metadata": {},
   "outputs": [
    {
     "name": "stdout",
     "output_type": "stream",
     "text": [
      "(256,) (128,) (256,)\n"
     ]
    }
   ],
   "source": [
    "# size of x(original signal), resized(compressed signal), y(reconstructed signal)\n",
    "print(x.shape, resized.shape, y.shape)"
   ]
  },
  {
   "cell_type": "code",
   "execution_count": 9,
   "metadata": {},
   "outputs": [
    {
     "name": "stdout",
     "output_type": "stream",
     "text": [
      "1.2925096653235377\n"
     ]
    }
   ],
   "source": [
    "# calculate euclidean distance between original signal and reconstructed signal\n",
    "dist = np.linalg.norm(x-y)\n",
    "print(dist)"
   ]
  },
  {
   "cell_type": "code",
   "execution_count": 10,
   "metadata": {},
   "outputs": [
    {
     "data": {
      "text/plain": [
       "'\\n'"
      ]
     },
     "execution_count": 10,
     "metadata": {},
     "output_type": "execute_result"
    }
   ],
   "source": [
    "'''\n",
    "'''"
   ]
  },
  {
   "cell_type": "code",
   "execution_count": 11,
   "metadata": {},
   "outputs": [],
   "source": [
    "# Calculate average error between orignial signal and reconstructed signal"
   ]
  },
  {
   "cell_type": "code",
   "execution_count": 12,
   "metadata": {},
   "outputs": [],
   "source": [
    "# initialize 3 average error count\n",
    "error_avg_128 = 0.0\n",
    "error_avg_64 = 0.0\n",
    "error_avg_32 = 0.0\n",
    "data_size = 50000"
   ]
  },
  {
   "cell_type": "code",
   "execution_count": 13,
   "metadata": {},
   "outputs": [],
   "source": [
    "# calculate sum of error among all signals in data set\n",
    "for i in range(data_size):\n",
    "    x = time_series[i,]\n",
    "    \n",
    "    resized = encoder128(x)\n",
    "    y = decoder256(resized)\n",
    "    error_avg_128 = error_avg_128 + float(np.linalg.norm(x-y))\n",
    "    \n",
    "    resized = encoder64(x)\n",
    "    y = decoder256(resized)\n",
    "    error_avg_64 = error_avg_64 + float(np.linalg.norm(x-y))\n",
    "    \n",
    "    resized = encoder32(x)\n",
    "    y = decoder256(resized)\n",
    "    error_avg_32 = error_avg_32 + float(np.linalg.norm(x-y))    "
   ]
  },
  {
   "cell_type": "code",
   "execution_count": 14,
   "metadata": {},
   "outputs": [
    {
     "name": "stdout",
     "output_type": "stream",
     "text": [
      "76273.23288734269 120327.73912184678 120327.73912184678\n"
     ]
    }
   ],
   "source": [
    "print(error_avg_128, error_avg_64, error_avg_32)"
   ]
  },
  {
   "cell_type": "code",
   "execution_count": 15,
   "metadata": {},
   "outputs": [
    {
     "name": "stdout",
     "output_type": "stream",
     "text": [
      "1.5254646577468538 2.4065547824369355 2.4065547824369355\n"
     ]
    }
   ],
   "source": [
    "# calculate average error\n",
    "error_avg_128 = error_avg_128 / data_size\n",
    "error_avg_64 = error_avg_64 / data_size\n",
    "error_avg_32 = error_avg_32 / data_size\n",
    "\n",
    "print(error_avg_128, error_avg_64, error_avg_32)"
   ]
  },
  {
   "cell_type": "code",
   "execution_count": 16,
   "metadata": {},
   "outputs": [
    {
     "data": {
      "text/plain": [
       "(50000, 256)"
      ]
     },
     "execution_count": 16,
     "metadata": {},
     "output_type": "execute_result"
    }
   ],
   "source": [
    "time_series.shape"
   ]
  },
  {
   "cell_type": "code",
   "execution_count": null,
   "metadata": {},
   "outputs": [],
   "source": []
  },
  {
   "cell_type": "code",
   "execution_count": null,
   "metadata": {},
   "outputs": [],
   "source": []
  }
 ],
 "metadata": {
  "kernelspec": {
   "display_name": "Python 3",
   "language": "python",
   "name": "python3"
  },
  "language_info": {
   "codemirror_mode": {
    "name": "ipython",
    "version": 3
   },
   "file_extension": ".py",
   "mimetype": "text/x-python",
   "name": "python",
   "nbconvert_exporter": "python",
   "pygments_lexer": "ipython3",
   "version": "3.7.4"
  }
 },
 "nbformat": 4,
 "nbformat_minor": 4
}
