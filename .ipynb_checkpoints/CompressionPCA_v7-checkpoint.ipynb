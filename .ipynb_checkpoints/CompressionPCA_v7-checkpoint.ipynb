{
 "cells": [
  {
   "cell_type": "markdown",
   "metadata": {},
   "source": [
    "# Part 1: Time Series Data Summarization"
   ]
  },
  {
   "cell_type": "code",
   "execution_count": 1,
   "metadata": {},
   "outputs": [],
   "source": [
    "import numpy as np\n",
    "import matplotlib.pyplot as plt\n",
    "#PCA Lib\n",
    "from sklearn.decomposition import PCA"
   ]
  },
  {
   "cell_type": "markdown",
   "metadata": {},
   "source": [
    "### Interface to facilitate euclidean distance calculation"
   ]
  },
  {
   "cell_type": "code",
   "execution_count": 2,
   "metadata": {},
   "outputs": [],
   "source": [
    "# An interface to calculate euclidean distance between 2 signals\n",
    "def euc_dist(x,y):\n",
    "    return float(np.linalg.norm(x - y))\n",
    "\n",
    "# Calculate RMSE\n",
    "from sklearn.metrics import mean_squared_error\n",
    "from math import sqrt\n",
    "def rmse(x,y):\n",
    "    return sqrt(mean_squared_error(x, y))"
   ]
  },
  {
   "cell_type": "markdown",
   "metadata": {},
   "source": [
    "# Test of Part 1: Compression and Reconstruction with given 50k time_series"
   ]
  },
  {
   "cell_type": "markdown",
   "metadata": {},
   "source": [
    "## Load 50k time_series (synthetic and synthetic)"
   ]
  },
  {
   "cell_type": "code",
   "execution_count": 3,
   "metadata": {},
   "outputs": [],
   "source": [
    "import struct\n",
    "filename_synthetic = 'synthetic_size50k_len256_znorm.bin'\n",
    "with open(filename_synthetic, 'rb') as in_file:\n",
    "    time_series_synthetic = np.array(struct.unpack('f' * 50000 * 256, in_file.read())).reshape(-1,256)\n",
    "\n",
    "filename_seismic = 'seismic_size50k_len256_znorm.bin'\n",
    "with open(filename_seismic, 'rb') as in_file:\n",
    "    time_series_seismic = np.array(struct.unpack('f' * 50000 * 256, in_file.read())).reshape(-1,256)"
   ]
  },
  {
   "cell_type": "markdown",
   "metadata": {},
   "source": [
    "## Data compression and reconstruction for 50k seismic time_series"
   ]
  },
  {
   "cell_type": "code",
   "execution_count": 4,
   "metadata": {},
   "outputs": [],
   "source": [
    "# Following code is to compress and reconstruct seismic data\n",
    "# every time serie will be compressed from 256 to 128/64/32\n",
    "# then the compressed data will be \"enlarged\" from 128/64/32 to 256\n",
    "\n",
    "# Initialize variables to record reconstruction error for 50k time_series\n",
    "errorList_128_seismic = []\n",
    "errorList_64_seismic = []\n",
    "errorList_32_seismic = []\n",
    "\n",
    "data_size = 50000\n",
    "\n",
    "# 1024 -> 128 -> 1024\n",
    "n_c = int(256*128/1024)\n",
    "pca_128 = PCA(n_components=n_c)\n",
    "resized_128 = pca_128.fit_transform(time_series_seismic)\n",
    "reconstructed_128 = pca_128.inverse_transform(resized_128)\n",
    "\n",
    "# 1024 -> 64 -> 1024\n",
    "n_c = int(256*64/1024)\n",
    "pca = PCA(n_components=n_c)\n",
    "resized_64 = pca.fit_transform(time_series_seismic)\n",
    "reconstructed_64 = pca.inverse_transform(resized_64)\n",
    "\n",
    "# 1024 -> 32 -> 1024\n",
    "n_c = int(256*32/1024)\n",
    "pca = PCA(n_components=n_c)\n",
    "resized_32 = pca.fit_transform(time_series_seismic)\n",
    "reconstructed_32 = pca.inverse_transform(resized_32)\n",
    "\n",
    "for i in range(data_size):\n",
    "    errorList_128_seismic.append(rmse(time_series_seismic[i], reconstructed_128[i]))\n",
    "    errorList_64_seismic.append(rmse(time_series_seismic[i], reconstructed_64[i]))   \n",
    "    errorList_32_seismic.append(rmse(time_series_seismic[i], reconstructed_32[i]))"
   ]
  },
  {
   "cell_type": "markdown",
   "metadata": {},
   "source": [
    "## Data compression and reconstruction for 50k synthetic time_series"
   ]
  },
  {
   "cell_type": "code",
   "execution_count": 5,
   "metadata": {},
   "outputs": [],
   "source": [
    "# Following code is to compress and reconstruct synthetic data\n",
    "# every time serie will be compressed from 256 to 128/64/32\n",
    "# then the compressed data will be \"enlarged\" from 128/64/32 to 256\n",
    "\n",
    "# Initialize variables to record reconstruction error for 50k time_series\n",
    "errorList_128_synthetic = []\n",
    "errorList_64_synthetic = []\n",
    "errorList_32_synthetic = []\n",
    "\n",
    "data_size = 50000\n",
    "\n",
    "# 1024 -> 128 -> 1024\n",
    "n_c = int(256*128/1024)\n",
    "pca = PCA(n_components=n_c)\n",
    "resized_128 = pca.fit_transform(time_series_synthetic)\n",
    "reconstructed_128 = pca.inverse_transform(resized_128)\n",
    "\n",
    "# 1024 -> 64 -> 1024\n",
    "n_c = int(256*64/1024)\n",
    "pca = PCA(n_components=n_c)\n",
    "resized_64 = pca.fit_transform(time_series_synthetic)\n",
    "reconstructed_64 = pca.inverse_transform(resized_64)\n",
    "\n",
    " # 1024 -> 32 -> 1024\n",
    "n_c = int(256*32/1024)\n",
    "pca = PCA(n_components=n_c)\n",
    "resized_32 = pca.fit_transform(time_series_synthetic)\n",
    "reconstructed_32 = pca.inverse_transform(resized_32)\n",
    "\n",
    "for i in range(data_size):\n",
    "    errorList_128_synthetic.append(rmse(time_series_synthetic[i], reconstructed_128[i]))\n",
    "    errorList_64_synthetic.append(rmse(time_series_synthetic[i], reconstructed_64[i]))   \n",
    "    errorList_32_synthetic.append(rmse(time_series_synthetic[i], reconstructed_32[i]))"
   ]
  },
  {
   "cell_type": "markdown",
   "metadata": {},
   "source": [
    "# Evaluate reconstruction error"
   ]
  },
  {
   "cell_type": "code",
   "execution_count": 6,
   "metadata": {},
   "outputs": [],
   "source": [
    "def summarize_data(x):\n",
    "    print(\"Average:\", np.mean(x), \" Mean:\", np.median(x), \" Max:\", np.max(x), \" Min:\", np.min(x), \"\\n\")"
   ]
  },
  {
   "cell_type": "markdown",
   "metadata": {},
   "source": [
    "### 50k seismic"
   ]
  },
  {
   "cell_type": "code",
   "execution_count": 7,
   "metadata": {},
   "outputs": [
    {
     "name": "stdout",
     "output_type": "stream",
     "text": [
      "Reconstruction Error of 50k seismic time series: 128 -> 1024\n",
      "Average: 0.8643951730342057  Mean: 0.8669004938759802  Max: 0.9977584876448249  Min: 0.6425244160545737 \n",
      "\n",
      "Reconstruction Error of 50k seismic time series: 64 -> 1024\n",
      "Average: 0.9328034881889868  Mean: 0.9358585602182117  Max: 0.9985874256692091  Min: 0.7768326340273141 \n",
      "\n",
      "Reconstruction Error of 50k seismic time series: 32 -> 1024\n",
      "Average: 0.9667896046756783  Mean: 0.9697804837240044  Max: 0.9999680363487463  Min: 0.8176950251418614 \n",
      "\n"
     ]
    }
   ],
   "source": [
    "# Reconstruction error for 50k seismic time_series\n",
    "print(\"Reconstruction Error of 50k seismic time series: 128 -> 1024\")\n",
    "summarize_data(errorList_128_seismic)\n",
    "print(\"Reconstruction Error of 50k seismic time series: 64 -> 1024\")\n",
    "summarize_data(errorList_64_seismic)\n",
    "print(\"Reconstruction Error of 50k seismic time series: 32 -> 1024\")\n",
    "summarize_data(errorList_32_seismic)"
   ]
  },
  {
   "cell_type": "markdown",
   "metadata": {},
   "source": [
    "### 50k synthetic"
   ]
  },
  {
   "cell_type": "code",
   "execution_count": 8,
   "metadata": {},
   "outputs": [
    {
     "name": "stdout",
     "output_type": "stream",
     "text": [
      "Reconstruction Error of 50k synthetic time series: 128 -> 1024\n",
      "Average: 0.16921385314446152  Mean: 0.15972007954721368  Max: 0.5537620032018061  Min: 0.0382641358590809 \n",
      "\n",
      "Reconstruction Error of 50k synthetic time series: 64 -> 1024\n",
      "Average: 0.23799036975367713  Mean: 0.22434646666105446  Max: 0.7405263756317348  Min: 0.0550939253384086 \n",
      "\n",
      "Reconstruction Error of 50k synthetic time series: 32 -> 1024\n",
      "Average: 0.3298626747781555  Mean: 0.31021572453402424  Max: 0.9462012547527147  Min: 0.0667484157515738 \n",
      "\n"
     ]
    }
   ],
   "source": [
    "# Reconstruction error for 50k synthetic time_series\n",
    "print(\"Reconstruction Error of 50k synthetic time series: 128 -> 1024\")\n",
    "summarize_data(errorList_128_synthetic)\n",
    "print(\"Reconstruction Error of 50k synthetic time series: 64 -> 1024\")\n",
    "summarize_data(errorList_64_synthetic)\n",
    "print(\"Reconstruction Error of 50k synthetic time series: 32 -> 1024\")\n",
    "summarize_data(errorList_32_synthetic)"
   ]
  },
  {
   "cell_type": "markdown",
   "metadata": {},
   "source": [
    "## Visualize reconstruction errors of 50k time series with Boxplot"
   ]
  },
  {
   "cell_type": "code",
   "execution_count": 9,
   "metadata": {},
   "outputs": [],
   "source": [
    "plt.rcParams['figure.figsize'] = [12, 6]"
   ]
  },
  {
   "cell_type": "code",
   "execution_count": 10,
   "metadata": {},
   "outputs": [
    {
     "data": {
      "text/plain": [
       "<function matplotlib.pyplot.show(*args, **kw)>"
      ]
     },
     "execution_count": 10,
     "metadata": {},
     "output_type": "execute_result"
    },
    {
     "data": {
      "image/png": "[encoded data removed]",
      "text/plain": [
       "<Figure size 864x432 with 2 Axes>"
      ]
     },
     "metadata": {
      "needs_background": "light"
     },
     "output_type": "display_data"
    }
   ],
   "source": [
    "plt.subplot(1,2,1)\n",
    "plt.boxplot([errorList_128_seismic, errorList_64_seismic, errorList_32_seismic])\n",
    "plt.title('Reconstruction error - 50k seismic time series')\n",
    "plt.xticks([1, 2, 3], ['128 -> 1024', '64 -> 1024', '32 -> 1024'])\n",
    "\n",
    "plt.subplot(1,2,2)\n",
    "plt.boxplot([errorList_128_synthetic, errorList_64_synthetic, errorList_32_synthetic])\n",
    "plt.title('Reconstruction error - 50k synthetic time series')\n",
    "plt.xticks([1, 2, 3], ['128 -> 1024', '64 -> 1024', '32 -> 1024'])\n",
    "\n",
    "plt.tight_layout()\n",
    "plt.show"
   ]
  },
  {
   "cell_type": "code",
   "execution_count": null,
   "metadata": {},
   "outputs": [],
   "source": []
  },
  {
   "cell_type": "code",
   "execution_count": null,
   "metadata": {},
   "outputs": [],
   "source": []
  },
  {
   "cell_type": "code",
   "execution_count": null,
   "metadata": {},
   "outputs": [],
   "source": []
  },
  {
   "cell_type": "code",
   "execution_count": null,
   "metadata": {},
   "outputs": [],
   "source": []
  }
 ],
 "metadata": {
  "kernelspec": {
   "display_name": "Python 3",
   "language": "python",
   "name": "python3"
  },
  "language_info": {
   "codemirror_mode": {
    "name": "ipython",
    "version": 3
   },
   "file_extension": ".py",
   "mimetype": "text/x-python",
   "name": "python",
   "nbconvert_exporter": "python",
   "pygments_lexer": "ipython3",
   "version": "3.7.6"
  }
 },
 "nbformat": 4,
 "nbformat_minor": 4
}
