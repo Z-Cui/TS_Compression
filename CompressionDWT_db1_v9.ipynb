{
 "cells": [
  {
   "cell_type": "markdown",
   "metadata": {},
   "source": [
    "# Part 1: Time Series Data Summarization"
   ]
  },
  {
   "cell_type": "code",
   "execution_count": 1,
   "metadata": {},
   "outputs": [],
   "source": [
    "import numpy as np\n",
    "import matplotlib.pyplot as plt\n",
    "import math\n",
    "import pywt # python library for wavelet transformation"
   ]
  },
  {
   "cell_type": "markdown",
   "metadata": {},
   "source": [
    "### Interface to facilitate calculation of Euclidean distance, RMSE and statistics"
   ]
  },
  {
   "cell_type": "code",
   "execution_count": 2,
   "metadata": {},
   "outputs": [],
   "source": [
    "# An interface to calculate euclidean distance between 2 signals\n",
    "def euc_dist(x,y):\n",
    "    return float(np.linalg.norm(x - y))\n",
    "\n",
    "# Calculate RMSE\n",
    "from sklearn.metrics import mean_squared_error\n",
    "from math import sqrt\n",
    "def rmse(x,y):\n",
    "    return sqrt(mean_squared_error(x, y))\n",
    "\n",
    "def summarize_data(x):\n",
    "    print(\"Average:\", np.mean(x).round(4), \" Mean:\", np.median(x).round(4), \" Max:\", np.max(x).round(4), \" Min:\", np.min(x).round(4), \"\\n\")"
   ]
  },
  {
   "cell_type": "markdown",
   "metadata": {},
   "source": [
    "### Load 50k time_series (synthetic and seismic)"
   ]
  },
  {
   "cell_type": "code",
   "execution_count": 3,
   "metadata": {},
   "outputs": [],
   "source": [
    "import struct\n",
    "filename_synthetic = 'synthetic_size50k_len256_znorm.bin'\n",
    "with open(filename_synthetic, 'rb') as in_file:\n",
    "    time_series_synthetic = np.array(struct.unpack('f' * 50000 * 256, in_file.read())).reshape(-1,256)\n",
    "\n",
    "filename_seismic = 'seismic_size50k_len256_znorm.bin'\n",
    "with open(filename_seismic, 'rb') as in_file:\n",
    "    time_series_seismic = np.array(struct.unpack('f' * 50000 * 256, in_file.read())).reshape(-1,256)"
   ]
  },
  {
   "cell_type": "markdown",
   "metadata": {},
   "source": [
    "# Compression with float32"
   ]
  },
  {
   "cell_type": "code",
   "execution_count": 4,
   "metadata": {},
   "outputs": [],
   "source": [
    "def compress_to_size(x, size):\n",
    "    size = size/4\n",
    "    for k in range(int(math.log(256/size, 2))):\n",
    "        sum_x, _ = pywt.dwt(x, 'db1')\n",
    "        x = sum_x\n",
    "    return x\n",
    "def decompress1024(y, size):\n",
    "    size = size/4\n",
    "    for k in range(int(math.log(256/size, 2))):\n",
    "        rec_y = pywt.idwt(y, None, 'db1')\n",
    "        y = rec_y\n",
    "    return y"
   ]
  },
  {
   "cell_type": "markdown",
   "metadata": {},
   "source": [
    "## 50k synthetic time_series (float32)"
   ]
  },
  {
   "cell_type": "code",
   "execution_count": 5,
   "metadata": {},
   "outputs": [],
   "source": [
    "# Following code is to compress and reconstruct synthetic data\n",
    "\n",
    "x = time_series_synthetic\n",
    "\n",
    "sum_128 = compress_to_size(x, 128)\n",
    "sum_64 = compress_to_size(x, 64)\n",
    "sum_32 = compress_to_size(x, 32)\n",
    "\n",
    "rec_128 = decompress1024(sum_128, 128)\n",
    "rec_64 = decompress1024(sum_64, 64)\n",
    "rec_32 = decompress1024(sum_32, 32)\n",
    "\n",
    "# Initialize variables to record reconstruction error for 50k time_series\n",
    "errorList_128_synthetic_float32 = []\n",
    "errorList_64_synthetic_float32 = []\n",
    "errorList_32_synthetic_float32 = []\n",
    "\n",
    "data_size = 50000\n",
    "for i in range(data_size):\n",
    "    x = time_series_synthetic[i,]\n",
    "    errorList_128_synthetic_float32.append(rmse(x, rec_128[i,]))\n",
    "    errorList_64_synthetic_float32.append(rmse(x, rec_64[i,]))\n",
    "    errorList_32_synthetic_float32.append(rmse(x, rec_32[i,]))"
   ]
  },
  {
   "cell_type": "markdown",
   "metadata": {},
   "source": [
    "## 50k seismic time_series (float32)"
   ]
  },
  {
   "cell_type": "code",
   "execution_count": 6,
   "metadata": {},
   "outputs": [],
   "source": [
    "# Following code is to compress and reconstruct seismic data\n",
    "\n",
    "x = time_series_seismic\n",
    "\n",
    "sum_128 = compress_to_size(x, 128)\n",
    "sum_64 = compress_to_size(x, 64)\n",
    "sum_32 = compress_to_size(x, 32)\n",
    "\n",
    "rec_128 = decompress1024(sum_128, 128)\n",
    "rec_64 = decompress1024(sum_64, 64)\n",
    "rec_32 = decompress1024(sum_32, 32)\n",
    "\n",
    "# Initialize variables to record reconstruction error for 50k time_series\n",
    "errorList_128_seismic_float32 = []\n",
    "errorList_64_seismic_float32 = []\n",
    "errorList_32_seismic_float32 = []\n",
    "\n",
    "data_size = 50000\n",
    "for i in range(data_size):\n",
    "    x = time_series_seismic[i,]\n",
    "    errorList_128_seismic_float32.append(rmse(x, rec_128[i,]))\n",
    "    errorList_64_seismic_float32.append(rmse(x, rec_64[i,]))\n",
    "    errorList_32_seismic_float32.append(rmse(x, rec_32[i,]))"
   ]
  },
  {
   "cell_type": "markdown",
   "metadata": {},
   "source": [
    "# Compression with int8"
   ]
  },
  {
   "cell_type": "code",
   "execution_count": 7,
   "metadata": {},
   "outputs": [],
   "source": [
    "def compress_to_size(x, size):\n",
    "    for k in range(int(math.log(256/size, 2))):\n",
    "        compressed_x, _ = pywt.dwt(x, 'db1')\n",
    "        x = compressed_x\n",
    "    return x\n",
    "def decompress1024(y, size):\n",
    "    for k in range(int(math.log(256/y.shape[1], 2))):\n",
    "        rec_y = pywt.idwt(y, None, 'db1')\n",
    "        y = rec_y\n",
    "    return y"
   ]
  },
  {
   "cell_type": "markdown",
   "metadata": {},
   "source": [
    "## 50k synthetic time_series (int8)"
   ]
  },
  {
   "cell_type": "code",
   "execution_count": 8,
   "metadata": {},
   "outputs": [],
   "source": [
    "# Following code is to compress and reconstruct synthetic data\n",
    "\n",
    "x = time_series_synthetic\n",
    "\n",
    "sum_128 = compress_to_size(x, 128)\n",
    "sum_64 = compress_to_size(x, 64)\n",
    "sum_32 = compress_to_size(x, 32)\n",
    "\n",
    "scale_n_128 = 127 / max(abs(np.amax(sum_128)), abs(np.amin(sum_128)))\n",
    "sum_128 = np.multiply(sum_128, scale_n_128).round().astype(np.int8)\n",
    "sum_128 = np.multiply(sum_128, 1/scale_n_128).astype(np.float32)\n",
    "\n",
    "scale_n_64 = 127 / max(abs(np.amax(sum_64)), abs(np.amin(sum_64)))\n",
    "sum_64 = np.multiply(sum_64, scale_n_64).round().astype(np.int8)\n",
    "sum_64 = np.multiply(sum_64, 1/scale_n_64).astype(np.float32)\n",
    "\n",
    "scale_n_32 = 127 / max(abs(np.amax(sum_32)), abs(np.amin(sum_32)))\n",
    "sum_32 = np.multiply(sum_32, scale_n_32).round().astype(np.int8)\n",
    "sum_32 = np.multiply(sum_32, 1/scale_n_32).astype(np.float32)\n",
    "\n",
    "rec_128 = decompress1024(sum_128, 128)\n",
    "rec_64 = decompress1024(sum_64, 64)\n",
    "rec_32 = decompress1024(sum_32, 32)\n",
    "\n",
    "# Initialize variables to record reconstruction error for 50k time_series\n",
    "errorList_128_synthetic_int8 = []\n",
    "errorList_64_synthetic_int8 = []\n",
    "errorList_32_synthetic_int8 = []\n",
    "\n",
    "data_size = 50000\n",
    "for i in range(data_size):\n",
    "    x = time_series_synthetic[i,]\n",
    "    errorList_128_synthetic_int8.append(rmse(x, rec_128[i,]))\n",
    "    errorList_64_synthetic_int8.append(rmse(x, rec_64[i,]))\n",
    "    errorList_32_synthetic_int8.append(rmse(x, rec_32[i,]))"
   ]
  },
  {
   "cell_type": "markdown",
   "metadata": {},
   "source": [
    "## 50k seismic time_series (int8)"
   ]
  },
  {
   "cell_type": "code",
   "execution_count": 9,
   "metadata": {},
   "outputs": [],
   "source": [
    "# Following code is to compress and reconstruct seismic data\n",
    "\n",
    "x = time_series_seismic\n",
    "\n",
    "sum_128 = compress_to_size(x, 128)\n",
    "sum_64 = compress_to_size(x, 64)\n",
    "sum_32 = compress_to_size(x, 32)\n",
    "\n",
    "scale_n_128 = 127 / max(abs(np.amax(sum_128)), abs(np.amin(sum_128)))\n",
    "sum_128 = np.multiply(sum_128, scale_n_128).round().astype(np.int8)\n",
    "sum_128 = np.multiply(sum_128, 1/scale_n_128).astype(np.float32)\n",
    "\n",
    "scale_n_64 = 127 / max(abs(np.amax(sum_64)), abs(np.amin(sum_64)))\n",
    "sum_64 = np.multiply(sum_64, scale_n_64).round().astype(np.int8)\n",
    "sum_64 = np.multiply(sum_64, 1/scale_n_64).astype(np.float32)\n",
    "\n",
    "scale_n_32 = 127 / max(abs(np.amax(sum_32)), abs(np.amin(sum_32)))\n",
    "sum_32 = np.multiply(sum_32, scale_n_32).round().astype(np.int8)\n",
    "sum_32 = np.multiply(sum_32, 1/scale_n_32).astype(np.float32)\n",
    "\n",
    "rec_128 = decompress1024(sum_128, 128)\n",
    "rec_64 = decompress1024(sum_64, 64)\n",
    "rec_32 = decompress1024(sum_32, 32)\n",
    "\n",
    "# Initialize variables to record reconstruction error for 50k time_series\n",
    "errorList_128_seismic_int8 = []\n",
    "errorList_64_seismic_int8 = []\n",
    "errorList_32_seismic_int8 = []\n",
    "\n",
    "data_size = 50000\n",
    "for i in range(data_size):\n",
    "    x = time_series_seismic[i,]\n",
    "    errorList_128_seismic_int8.append(rmse(x, rec_128[i,]))\n",
    "    errorList_64_seismic_int8.append(rmse(x, rec_64[i,]))\n",
    "    errorList_32_seismic_int8.append(rmse(x, rec_32[i,]))"
   ]
  },
  {
   "cell_type": "code",
   "execution_count": null,
   "metadata": {},
   "outputs": [],
   "source": []
  },
  {
   "cell_type": "markdown",
   "metadata": {},
   "source": [
    "## Error evaluation"
   ]
  },
  {
   "cell_type": "code",
   "execution_count": 10,
   "metadata": {},
   "outputs": [
    {
     "name": "stdout",
     "output_type": "stream",
     "text": [
      "RMSE of 50k synthetic time series: 128 -> 1024 (float32)\n",
      "Average: 0.2169  Mean: 0.2064  Max: 0.6278  Min: 0.0585 \n",
      "\n",
      "RMSE of 50k synthetic time series: 64 -> 1024 (float32)\n",
      "Average: 0.3054  Mean: 0.2919  Max: 0.8312  Min: 0.0809 \n",
      "\n",
      "RMSE of 50k synthetic time series: 32 -> 1024 (float32)\n",
      "Average: 0.4246  Mean: 0.409  Max: 0.9729  Min: 0.132 \n",
      "\n",
      "RMSE of 50k synthetic time series: 128 -> 1024 (int8)\n",
      "Average: 0.096  Mean: 0.0908  Max: 0.2869  Min: 0.0242 \n",
      "\n",
      "RMSE of 50k synthetic time series: 64 -> 1024 (int8)\n",
      "Average: 0.1508  Mean: 0.143  Max: 0.4539  Min: 0.0405 \n",
      "\n",
      "RMSE of 50k synthetic time series: 32 -> 1024 (int8)\n",
      "Average: 0.2171  Mean: 0.2066  Max: 0.6279  Min: 0.0594 \n",
      "\n",
      "RMSE of 50k seismic time series: 128 -> 1024 (float32)\n",
      "Average: 0.9881  Mean: 0.9904  Max: 0.9989  Min: 0.6447 \n",
      "\n",
      "RMSE of 50k seismic time series: 64 -> 1024 (float32)\n",
      "Average: 0.9967  Mean: 0.9972  Max: 0.9998  Min: 0.9081 \n",
      "\n",
      "RMSE of 50k seismic time series: 32 -> 1024 (float32)\n",
      "Average: 0.9987  Mean: 0.999  Max: 1.0  Min: 0.9639 \n",
      "\n",
      "RMSE of 50k seismic time series: 128 -> 1024 (int8)\n",
      "Average: 0.7915  Mean: 0.8045  Max: 0.9181  Min: 0.2293 \n",
      "\n",
      "RMSE of 50k seismic time series: 64 -> 1024 (int8)\n",
      "Average: 0.9639  Mean: 0.9696  Max: 0.9908  Min: 0.4363 \n",
      "\n",
      "RMSE of 50k seismic time series: 32 -> 1024 (int8)\n",
      "Average: 0.9881  Mean: 0.9904  Max: 0.9989  Min: 0.6447 \n",
      "\n"
     ]
    }
   ],
   "source": [
    "# Reconstruction error for 50k synthetic time_series\n",
    "print(\"RMSE of 50k synthetic time series: 128 -> 1024 (float32)\")\n",
    "summarize_data(errorList_128_synthetic_float32)\n",
    "print(\"RMSE of 50k synthetic time series: 64 -> 1024 (float32)\")\n",
    "summarize_data(errorList_64_synthetic_float32)\n",
    "print(\"RMSE of 50k synthetic time series: 32 -> 1024 (float32)\")\n",
    "summarize_data(errorList_32_synthetic_float32)\n",
    "\n",
    "print(\"RMSE of 50k synthetic time series: 128 -> 1024 (int8)\")\n",
    "summarize_data(errorList_128_synthetic_int8)\n",
    "print(\"RMSE of 50k synthetic time series: 64 -> 1024 (int8)\")\n",
    "summarize_data(errorList_64_synthetic_int8)\n",
    "print(\"RMSE of 50k synthetic time series: 32 -> 1024 (int8)\")\n",
    "summarize_data(errorList_32_synthetic_int8)\n",
    "\n",
    "\n",
    "# Reconstruction error for 50k seismic time_series\n",
    "print(\"RMSE of 50k seismic time series: 128 -> 1024 (float32)\")\n",
    "summarize_data(errorList_128_seismic_float32)\n",
    "print(\"RMSE of 50k seismic time series: 64 -> 1024 (float32)\")\n",
    "summarize_data(errorList_64_seismic_float32)\n",
    "print(\"RMSE of 50k seismic time series: 32 -> 1024 (float32)\")\n",
    "summarize_data(errorList_32_seismic_float32)\n",
    "\n",
    "print(\"RMSE of 50k seismic time series: 128 -> 1024 (int8)\")\n",
    "summarize_data(errorList_128_seismic_int8)\n",
    "print(\"RMSE of 50k seismic time series: 64 -> 1024 (int8)\")\n",
    "summarize_data(errorList_64_seismic_int8)\n",
    "print(\"RMSE of 50k seismic time series: 32 -> 1024 (int8)\")\n",
    "summarize_data(errorList_32_seismic_int8)"
   ]
  },
  {
   "cell_type": "markdown",
   "metadata": {},
   "source": [
    "## Visualize reconstruction errors of 50k time series with Boxplot"
   ]
  },
  {
   "cell_type": "code",
   "execution_count": 11,
   "metadata": {},
   "outputs": [],
   "source": [
    "plt.rcParams['figure.figsize'] = [12, 6]"
   ]
  },
  {
   "cell_type": "code",
   "execution_count": 12,
   "metadata": {},
   "outputs": [
    {
     "data": {
      "text/plain": [
       "<function matplotlib.pyplot.show(*args, **kw)>"
      ]
     },
     "execution_count": 12,
     "metadata": {},
     "output_type": "execute_result"
    },
    {
     "data": {
      "image/png": "[encoded data removed]",
      "text/plain": [
       "<Figure size 864x432 with 2 Axes>"
      ]
     },
     "metadata": {
      "needs_background": "light"
     },
     "output_type": "display_data"
    }
   ],
   "source": [
    "plt.subplot(1,2,1)\n",
    "plt.boxplot([errorList_128_seismic_float32, errorList_64_seismic_float32, errorList_32_seismic_float32, \n",
    "             errorList_128_seismic_int8, errorList_64_seismic_int8, errorList_32_seismic_int8])\n",
    "plt.title('Reconstruction error - 50k seismic time series')\n",
    "plt.xticks([1, 2, 3, 4, 5, 6], ['128(float32)', '64(float32)', '32(float32)', '128(int8)', '64(int8)', '32(int8)'])\n",
    "\n",
    "plt.subplot(1,2,2)\n",
    "plt.boxplot([errorList_128_synthetic_float32, errorList_64_synthetic_float32, errorList_32_synthetic_float32, \n",
    "             errorList_128_synthetic_int8, errorList_64_synthetic_int8, errorList_32_synthetic_int8])\n",
    "plt.title('Reconstruction error - 50k synthetic time series')\n",
    "plt.xticks([1, 2, 3, 4, 5, 6], ['128(float32)', '64(float32)', '32(float32)', '128(int8)', '64(int8)', '32(int8)'])\n",
    "\n",
    "plt.tight_layout()\n",
    "plt.show"
   ]
  },
  {
   "cell_type": "code",
   "execution_count": 13,
   "metadata": {},
   "outputs": [],
   "source": [
    "import numpy as np\n",
    "errorFolder = \"./errors/\"\n",
    "errorTag = \"_DWT_db1\"\n",
    "\n",
    "np.save(errorFolder + \"128_seismic\" + errorTag + \"_float32\", errorList_128_seismic_float32)\n",
    "np.save(errorFolder + \"64_seismic\" + errorTag + \"_float32\", errorList_64_seismic_float32)\n",
    "np.save(errorFolder + \"32_seismic\" + errorTag + \"_float32\", errorList_32_seismic_float32)\n",
    "np.save(errorFolder + \"128_seismic\" + errorTag + \"_int8\", errorList_128_seismic_int8)\n",
    "np.save(errorFolder + \"64_seismic\" + errorTag + \"_int8\", errorList_64_seismic_int8)\n",
    "np.save(errorFolder + \"32_seismic\" + errorTag + \"_int8\", errorList_32_seismic_int8)\n",
    "\n",
    "np.save(errorFolder + \"128_synthetic\" + errorTag + \"_float32\", errorList_128_synthetic_float32)\n",
    "np.save(errorFolder + \"64_synthetic\" + errorTag + \"_float32\", errorList_64_synthetic_float32)\n",
    "np.save(errorFolder + \"32_synthetic\" + errorTag + \"_float32\", errorList_32_synthetic_float32)\n",
    "np.save(errorFolder + \"128_synthetic\" + errorTag + \"_int8\", errorList_128_synthetic_int8)\n",
    "np.save(errorFolder + \"64_synthetic\" + errorTag + \"_int8\", errorList_64_synthetic_int8)\n",
    "np.save(errorFolder + \"32_synthetic\" + errorTag + \"_int8\", errorList_32_synthetic_int8)"
   ]
  },
  {
   "cell_type": "code",
   "execution_count": 14,
   "metadata": {},
   "outputs": [],
   "source": [
    "# load example\n",
    "# data = np.load(errorFolder + \"128_seismic\" + errorTag + \"_float32\" + \".npy\")"
   ]
  },
  {
   "cell_type": "code",
   "execution_count": null,
   "metadata": {},
   "outputs": [],
   "source": []
  }
 ],
 "metadata": {
  "kernelspec": {
   "display_name": "Python 3",
   "language": "python",
   "name": "python3"
  },
  "language_info": {
   "codemirror_mode": {
    "name": "ipython",
    "version": 3
   },
   "file_extension": ".py",
   "mimetype": "text/x-python",
   "name": "python",
   "nbconvert_exporter": "python",
   "pygments_lexer": "ipython3",
   "version": "3.7.6"
  }
 },
 "nbformat": 4,
 "nbformat_minor": 4
}
